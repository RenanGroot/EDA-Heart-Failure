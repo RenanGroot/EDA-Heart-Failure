{
 "cells": [
  {
   "cell_type": "markdown",
   "id": "dae7f701",
   "metadata": {},
   "source": [
    "# Exploratory Data Analysis"
   ]
  },
  {
   "cell_type": "markdown",
   "id": "49734bff",
   "metadata": {},
   "source": [
    "For study and training purposes, I will perform an exploratory data analysis of \"The Heart Failure Prediction Dataset\". Although this analysis doesn't have a specific question to be answered, I intend to focus on analyze the relationships between the main variable (Mortality) and some other selected variables from this dataset. This dataset seems to be initialy planned to be used as a basis for a predictive model, but I will use just for an exploratory analysis."
   ]
  },
  {
   "cell_type": "markdown",
   "id": "f794feb1",
   "metadata": {},
   "source": [
    "# Introduction"
   ]
  },
  {
   "cell_type": "markdown",
   "id": "e9932f90",
   "metadata": {},
   "source": [
    "Heart disease is the leading cause of death in the all over the world. The term “heart disease” refers to several types of heart conditions, including coronary heart disease (CHD). Coronary heart disease is the term that describes what happens when your heart's blood supply is blocked or interrupted by a build-up of fatty substances in the coronary arteries. In this analysis, we are going to consider a Heart Failure as a CHD. You can greatly reduce your risk for heart disease through lifestyle changes (physical activity, smoking, alcohol ingestion, etc.).\n",
    "\n",
    "The dataset contains complete history of heart patients, the data was collected from Pakistan, Faisalabad hospital named Institute of Cardiology. "
   ]
  },
  {
   "cell_type": "markdown",
   "id": "eef09b6f",
   "metadata": {},
   "source": [
    "The Kaggle’s source can be consulted through the link: https://www.kaggle.com/datasets/asgharalikhan/mortality-rate-heart-patient-pakistan-hospital\n",
    "\n",
    "*The Heart Failure Prediction Dataset*<br>\n",
    "Author: Asghar Ali Khan"
   ]
  },
  {
   "cell_type": "markdown",
   "id": "e99bbfc1",
   "metadata": {},
   "source": [
    "### Previous Data Dictionary *(Given by the Kaggle's source)*"
   ]
  },
  {
   "cell_type": "markdown",
   "id": "e156470f",
   "metadata": {},
   "source": [
    "|Column|Description|\n",
    "|------|-----------|\n",
    "|*Age*|Age of the patient|\n",
    "|*Age Group*|Such as 21-30 and 31-40 are grouped|\n",
    "|*Gender*|Sex of the patient|\n",
    "|*Locality*|Rural or Urban|\n",
    "|*Marital status*|Married or unmarried|\n",
    "|*Smoking*|yes/no|\n",
    "|*Depression*|yes/no|\n",
    "|*Mortality*|Died= 0 and Alive= 1|\n",
    "|*Follow.Up*|Number of visiting time|\n",
    "|*cp*|Chest Pain type chest pain type|\n",
    "|*Diabetes*|Yes = 0 and No = 1|\n",
    "|*chol*|cholesterol in mg/dl fetched via BMI sensor|\n",
    "|*fbs*|(fasting blood sugar > 120 mg/dl) (1 = true; 0 = false)|\n",
    "|*trestbps*|resting blood pressure (in mm Hg)|\n",
    "|*thalach*|maximum heart rate achieved|\n"
   ]
  },
  {
   "cell_type": "markdown",
   "id": "196ad889",
   "metadata": {},
   "source": [
    "Due the lack of information found on the data dictionary of Kaggle Dataset's page. I've researched some variables by myself to account for that."
   ]
  },
  {
   "cell_type": "markdown",
   "id": "a3bd3709",
   "metadata": {},
   "source": [
    "## Dataset overview"
   ]
  },
  {
   "cell_type": "code",
   "execution_count": 1,
   "id": "05c76c0c",
   "metadata": {},
   "outputs": [
    {
     "name": "stdout",
     "output_type": "stream",
     "text": [
      "--Packages Loaded!--\n",
      "Python version: 3.9.7\n",
      "Pandas version: 1.4.3\n",
      "Numpy version: 1.21.5\n",
      "Matplotlib version: 3.5.1\n",
      "Seaborn version: 0.11.2\n"
     ]
    }
   ],
   "source": [
    "# Importing Libraries\n",
    "\n",
    "import pandas as pd\n",
    "import numpy as np\n",
    "import matplotlib\n",
    "import matplotlib.pyplot as plt\n",
    "import seaborn as sns\n",
    "from scipy import stats\n",
    "\n",
    "from platform import python_version\n",
    "%matplotlib inline\n",
    "\n",
    "print(\"--Packages Loaded!--\")\n",
    "print(\"Python version: {}\".format(python_version()))\n",
    "print(\"Pandas version: {}\".format(pd.__version__))\n",
    "print(\"Numpy version: {}\".format(np.__version__))\n",
    "print(\"Matplotlib version: {}\".format(matplotlib.__version__))\n",
    "print(\"Seaborn version: {}\".format(sns.__version__))"
   ]
  },
  {
   "cell_type": "markdown",
   "id": "86e4d43c",
   "metadata": {},
   "source": [
    "Aiming to pratice my Data Analytics skills, I'm going to use just 13 variables from the dataset.\n",
    "<br>\n",
    "**I will be looking to improve this analysis in the future!**"
   ]
  },
  {
   "cell_type": "code",
   "execution_count": 2,
   "id": "523afac8",
   "metadata": {
    "scrolled": false
   },
   "outputs": [
    {
     "data": {
      "text/html": [
       "<div>\n",
       "<style scoped>\n",
       "    .dataframe tbody tr th:only-of-type {\n",
       "        vertical-align: middle;\n",
       "    }\n",
       "\n",
       "    .dataframe tbody tr th {\n",
       "        vertical-align: top;\n",
       "    }\n",
       "\n",
       "    .dataframe thead th {\n",
       "        text-align: right;\n",
       "    }\n",
       "</style>\n",
       "<table border=\"1\" class=\"dataframe\">\n",
       "  <thead>\n",
       "    <tr style=\"text-align: right;\">\n",
       "      <th></th>\n",
       "      <th>Age</th>\n",
       "      <th>Age.Group</th>\n",
       "      <th>Gender</th>\n",
       "      <th>Locality</th>\n",
       "      <th>Marital status</th>\n",
       "      <th>Life.Style</th>\n",
       "      <th>Sleep</th>\n",
       "      <th>Category</th>\n",
       "      <th>Depression</th>\n",
       "      <th>Hyperlipi</th>\n",
       "      <th>...</th>\n",
       "      <th>oldpeak</th>\n",
       "      <th>slope</th>\n",
       "      <th>ca</th>\n",
       "      <th>thal</th>\n",
       "      <th>num</th>\n",
       "      <th>SK</th>\n",
       "      <th>SK.React</th>\n",
       "      <th>Reaction</th>\n",
       "      <th>Mortality</th>\n",
       "      <th>Follow.Up</th>\n",
       "    </tr>\n",
       "  </thead>\n",
       "  <tbody>\n",
       "    <tr>\n",
       "      <th>0</th>\n",
       "      <td>45</td>\n",
       "      <td>41-50</td>\n",
       "      <td>Female</td>\n",
       "      <td>RURAL</td>\n",
       "      <td>MARRIED</td>\n",
       "      <td>NO</td>\n",
       "      <td>NO</td>\n",
       "      <td>FREE</td>\n",
       "      <td>YES</td>\n",
       "      <td>YES</td>\n",
       "      <td>...</td>\n",
       "      <td>3.0</td>\n",
       "      <td>2</td>\n",
       "      <td>0</td>\n",
       "      <td>7</td>\n",
       "      <td>2</td>\n",
       "      <td>1</td>\n",
       "      <td>NO</td>\n",
       "      <td>0</td>\n",
       "      <td>0</td>\n",
       "      <td>60</td>\n",
       "    </tr>\n",
       "    <tr>\n",
       "      <th>1</th>\n",
       "      <td>51</td>\n",
       "      <td>51-60</td>\n",
       "      <td>Female</td>\n",
       "      <td>URBAN</td>\n",
       "      <td>MARRIED</td>\n",
       "      <td>NO</td>\n",
       "      <td>NO</td>\n",
       "      <td>FREE</td>\n",
       "      <td>YES</td>\n",
       "      <td>YES</td>\n",
       "      <td>...</td>\n",
       "      <td>1.2</td>\n",
       "      <td>2</td>\n",
       "      <td>0</td>\n",
       "      <td>7</td>\n",
       "      <td>2</td>\n",
       "      <td>1</td>\n",
       "      <td>NO</td>\n",
       "      <td>0</td>\n",
       "      <td>0</td>\n",
       "      <td>15</td>\n",
       "    </tr>\n",
       "    <tr>\n",
       "      <th>2</th>\n",
       "      <td>55</td>\n",
       "      <td>51-60</td>\n",
       "      <td>Female</td>\n",
       "      <td>RURAL</td>\n",
       "      <td>MARRIED</td>\n",
       "      <td>YES</td>\n",
       "      <td>YES</td>\n",
       "      <td>FREE</td>\n",
       "      <td>YES</td>\n",
       "      <td>YES</td>\n",
       "      <td>...</td>\n",
       "      <td>3.4</td>\n",
       "      <td>2</td>\n",
       "      <td>0</td>\n",
       "      <td>3</td>\n",
       "      <td>2</td>\n",
       "      <td>1</td>\n",
       "      <td>NO</td>\n",
       "      <td>0</td>\n",
       "      <td>0</td>\n",
       "      <td>6</td>\n",
       "    </tr>\n",
       "    <tr>\n",
       "      <th>3</th>\n",
       "      <td>55</td>\n",
       "      <td>51-60</td>\n",
       "      <td>Female</td>\n",
       "      <td>RURAL</td>\n",
       "      <td>MARRIED</td>\n",
       "      <td>YES</td>\n",
       "      <td>YES</td>\n",
       "      <td>FREE</td>\n",
       "      <td>YES</td>\n",
       "      <td>YES</td>\n",
       "      <td>...</td>\n",
       "      <td>2.0</td>\n",
       "      <td>2</td>\n",
       "      <td>1</td>\n",
       "      <td>7</td>\n",
       "      <td>3</td>\n",
       "      <td>1</td>\n",
       "      <td>NO</td>\n",
       "      <td>0</td>\n",
       "      <td>0</td>\n",
       "      <td>52</td>\n",
       "    </tr>\n",
       "    <tr>\n",
       "      <th>4</th>\n",
       "      <td>56</td>\n",
       "      <td>51-60</td>\n",
       "      <td>Female</td>\n",
       "      <td>RURAL</td>\n",
       "      <td>MARRIED</td>\n",
       "      <td>YES</td>\n",
       "      <td>NO</td>\n",
       "      <td>FREE</td>\n",
       "      <td>YES</td>\n",
       "      <td>YES</td>\n",
       "      <td>...</td>\n",
       "      <td>4.0</td>\n",
       "      <td>3</td>\n",
       "      <td>2</td>\n",
       "      <td>7</td>\n",
       "      <td>3</td>\n",
       "      <td>1</td>\n",
       "      <td>NO</td>\n",
       "      <td>0</td>\n",
       "      <td>0</td>\n",
       "      <td>34</td>\n",
       "    </tr>\n",
       "  </tbody>\n",
       "</table>\n",
       "<p>5 rows × 60 columns</p>\n",
       "</div>"
      ],
      "text/plain": [
       "   Age Age.Group  Gender Locality   Marital status                         \\\n",
       "0   45     41-50  Female      RURAL                               MARRIED   \n",
       "1   51     51-60  Female      URBAN                               MARRIED   \n",
       "2   55     51-60  Female      RURAL                               MARRIED   \n",
       "3   55     51-60  Female      RURAL                               MARRIED   \n",
       "4   56     51-60  Female      RURAL                               MARRIED   \n",
       "\n",
       "  Life.Style                                                                                \\\n",
       "0                                                 NO                                         \n",
       "1                                                 NO                                         \n",
       "2                                                YES                                         \n",
       "3                                                YES                                         \n",
       "4                                                YES                                         \n",
       "\n",
       "  Sleep Category Depression Hyperlipi  ... oldpeak slope  ca  thal num SK  \\\n",
       "0    NO     FREE        YES       YES  ...     3.0     2   0     7   2  1   \n",
       "1    NO     FREE        YES       YES  ...     1.2     2   0     7   2  1   \n",
       "2   YES     FREE        YES       YES  ...     3.4     2   0     3   2  1   \n",
       "3   YES     FREE        YES       YES  ...     2.0     2   1     7   3  1   \n",
       "4    NO     FREE        YES       YES  ...     4.0     3   2     7   3  1   \n",
       "\n",
       "   SK.React  Reaction  Mortality  Follow.Up  \n",
       "0        NO         0          0         60  \n",
       "1        NO         0          0         15  \n",
       "2        NO         0          0          6  \n",
       "3        NO         0          0         52  \n",
       "4        NO         0          0         34  \n",
       "\n",
       "[5 rows x 60 columns]"
      ]
     },
     "execution_count": 2,
     "metadata": {},
     "output_type": "execute_result"
    }
   ],
   "source": [
    "# Reading the dataset\n",
    "\n",
    "df = pd.read_csv(\"heart-failure-dataset.csv\", sep=\",\", low_memory=False)\n",
    "\n",
    "# Print the first 5 rows from the dataset\n",
    "df.head(5)"
   ]
  },
  {
   "cell_type": "code",
   "execution_count": 3,
   "id": "c80060b2",
   "metadata": {},
   "outputs": [
    {
     "name": "stdout",
     "output_type": "stream",
     "text": [
      "This dataset has 368 rows and 60 cloumns.\n"
     ]
    }
   ],
   "source": [
    "print(\"This dataset has {} rows and {} cloumns.\".format(df.shape[0], df.shape[1]))"
   ]
  },
  {
   "cell_type": "markdown",
   "id": "e5caa8d8",
   "metadata": {},
   "source": [
    "Since there are *60 columns* on this Dataset, let's start by choosing the variables that we are going to explore further."
   ]
  },
  {
   "cell_type": "code",
   "execution_count": 4,
   "id": "e0aaf148",
   "metadata": {
    "scrolled": true
   },
   "outputs": [
    {
     "data": {
      "text/html": [
       "<div>\n",
       "<style scoped>\n",
       "    .dataframe tbody tr th:only-of-type {\n",
       "        vertical-align: middle;\n",
       "    }\n",
       "\n",
       "    .dataframe tbody tr th {\n",
       "        vertical-align: top;\n",
       "    }\n",
       "\n",
       "    .dataframe thead th {\n",
       "        text-align: right;\n",
       "    }\n",
       "</style>\n",
       "<table border=\"1\" class=\"dataframe\">\n",
       "  <thead>\n",
       "    <tr style=\"text-align: right;\">\n",
       "      <th></th>\n",
       "      <th>0</th>\n",
       "      <th>1</th>\n",
       "      <th>2</th>\n",
       "      <th>3</th>\n",
       "      <th>4</th>\n",
       "    </tr>\n",
       "  </thead>\n",
       "  <tbody>\n",
       "    <tr>\n",
       "      <th>Age</th>\n",
       "      <td>45</td>\n",
       "      <td>51</td>\n",
       "      <td>55</td>\n",
       "      <td>55</td>\n",
       "      <td>56</td>\n",
       "    </tr>\n",
       "    <tr>\n",
       "      <th>Age.Group</th>\n",
       "      <td>41-50</td>\n",
       "      <td>51-60</td>\n",
       "      <td>51-60</td>\n",
       "      <td>51-60</td>\n",
       "      <td>51-60</td>\n",
       "    </tr>\n",
       "    <tr>\n",
       "      <th>Gender</th>\n",
       "      <td>Female</td>\n",
       "      <td>Female</td>\n",
       "      <td>Female</td>\n",
       "      <td>Female</td>\n",
       "      <td>Female</td>\n",
       "    </tr>\n",
       "    <tr>\n",
       "      <th>Locality</th>\n",
       "      <td>RURAL</td>\n",
       "      <td>URBAN</td>\n",
       "      <td>RURAL</td>\n",
       "      <td>RURAL</td>\n",
       "      <td>RURAL</td>\n",
       "    </tr>\n",
       "    <tr>\n",
       "      <th>Marital status</th>\n",
       "      <td>MARRIED</td>\n",
       "      <td>MARRIED</td>\n",
       "      <td>MARRIED</td>\n",
       "      <td>MARRIED</td>\n",
       "      <td>MARRIED</td>\n",
       "    </tr>\n",
       "    <tr>\n",
       "      <th>Life.Style</th>\n",
       "      <td>NO</td>\n",
       "      <td>NO</td>\n",
       "      <td>YES</td>\n",
       "      <td>YES</td>\n",
       "      <td>YES</td>\n",
       "    </tr>\n",
       "    <tr>\n",
       "      <th>Sleep</th>\n",
       "      <td>NO</td>\n",
       "      <td>NO</td>\n",
       "      <td>YES</td>\n",
       "      <td>YES</td>\n",
       "      <td>NO</td>\n",
       "    </tr>\n",
       "    <tr>\n",
       "      <th>Category</th>\n",
       "      <td>FREE</td>\n",
       "      <td>FREE</td>\n",
       "      <td>FREE</td>\n",
       "      <td>FREE</td>\n",
       "      <td>FREE</td>\n",
       "    </tr>\n",
       "    <tr>\n",
       "      <th>Depression</th>\n",
       "      <td>YES</td>\n",
       "      <td>YES</td>\n",
       "      <td>YES</td>\n",
       "      <td>YES</td>\n",
       "      <td>YES</td>\n",
       "    </tr>\n",
       "    <tr>\n",
       "      <th>Hyperlipi</th>\n",
       "      <td>YES</td>\n",
       "      <td>YES</td>\n",
       "      <td>YES</td>\n",
       "      <td>YES</td>\n",
       "      <td>YES</td>\n",
       "    </tr>\n",
       "    <tr>\n",
       "      <th>Smoking</th>\n",
       "      <td>NO</td>\n",
       "      <td>NO</td>\n",
       "      <td>NO</td>\n",
       "      <td>NO</td>\n",
       "      <td>NO</td>\n",
       "    </tr>\n",
       "    <tr>\n",
       "      <th>Family.History</th>\n",
       "      <td>NO</td>\n",
       "      <td>NO</td>\n",
       "      <td>NO</td>\n",
       "      <td>NO</td>\n",
       "      <td>NO</td>\n",
       "    </tr>\n",
       "    <tr>\n",
       "      <th>F.History</th>\n",
       "      <td>0</td>\n",
       "      <td>0</td>\n",
       "      <td>0</td>\n",
       "      <td>0</td>\n",
       "      <td>0</td>\n",
       "    </tr>\n",
       "    <tr>\n",
       "      <th>Diabetes</th>\n",
       "      <td>1</td>\n",
       "      <td>0</td>\n",
       "      <td>1</td>\n",
       "      <td>1</td>\n",
       "      <td>1</td>\n",
       "    </tr>\n",
       "    <tr>\n",
       "      <th>HTN</th>\n",
       "      <td>NO</td>\n",
       "      <td>NO</td>\n",
       "      <td>YES</td>\n",
       "      <td>YES</td>\n",
       "      <td>YES</td>\n",
       "    </tr>\n",
       "    <tr>\n",
       "      <th>Allergies</th>\n",
       "      <td>NO</td>\n",
       "      <td>NO</td>\n",
       "      <td>NO</td>\n",
       "      <td>NO</td>\n",
       "      <td>NO</td>\n",
       "    </tr>\n",
       "    <tr>\n",
       "      <th>BP</th>\n",
       "      <td>100.6</td>\n",
       "      <td>90.6</td>\n",
       "      <td>100.7</td>\n",
       "      <td>160.1</td>\n",
       "      <td>90.6</td>\n",
       "    </tr>\n",
       "    <tr>\n",
       "      <th>Thrombolysis</th>\n",
       "      <td>0</td>\n",
       "      <td>0</td>\n",
       "      <td>0</td>\n",
       "      <td>0</td>\n",
       "      <td>0</td>\n",
       "    </tr>\n",
       "    <tr>\n",
       "      <th>BGR</th>\n",
       "      <td>84</td>\n",
       "      <td>135</td>\n",
       "      <td>146</td>\n",
       "      <td>146</td>\n",
       "      <td>85</td>\n",
       "    </tr>\n",
       "    <tr>\n",
       "      <th>B.Urea</th>\n",
       "      <td>28.0</td>\n",
       "      <td>17.0</td>\n",
       "      <td>37.0</td>\n",
       "      <td>37.0</td>\n",
       "      <td>78.0</td>\n",
       "    </tr>\n",
       "    <tr>\n",
       "      <th>S.Cr</th>\n",
       "      <td>0.9</td>\n",
       "      <td>0.7</td>\n",
       "      <td>1.0</td>\n",
       "      <td>1.0</td>\n",
       "      <td>1.2</td>\n",
       "    </tr>\n",
       "    <tr>\n",
       "      <th>S.Sodium</th>\n",
       "      <td>138</td>\n",
       "      <td>144</td>\n",
       "      <td>137</td>\n",
       "      <td>137</td>\n",
       "      <td>139</td>\n",
       "    </tr>\n",
       "    <tr>\n",
       "      <th>S.Potassium</th>\n",
       "      <td>3.3</td>\n",
       "      <td>4.7</td>\n",
       "      <td>4.2</td>\n",
       "      <td>4.2</td>\n",
       "      <td>4.5</td>\n",
       "    </tr>\n",
       "    <tr>\n",
       "      <th>S.Chloride</th>\n",
       "      <td>107</td>\n",
       "      <td>104</td>\n",
       "      <td>103</td>\n",
       "      <td>103</td>\n",
       "      <td>112</td>\n",
       "    </tr>\n",
       "    <tr>\n",
       "      <th>C.P.K</th>\n",
       "      <td>130</td>\n",
       "      <td>163</td>\n",
       "      <td>149</td>\n",
       "      <td>149</td>\n",
       "      <td>75</td>\n",
       "    </tr>\n",
       "    <tr>\n",
       "      <th>CK.MB</th>\n",
       "      <td>30</td>\n",
       "      <td>30</td>\n",
       "      <td>22</td>\n",
       "      <td>22</td>\n",
       "      <td>18</td>\n",
       "    </tr>\n",
       "    <tr>\n",
       "      <th>ESR</th>\n",
       "      <td>11</td>\n",
       "      <td>27</td>\n",
       "      <td>19</td>\n",
       "      <td>19</td>\n",
       "      <td>13</td>\n",
       "    </tr>\n",
       "    <tr>\n",
       "      <th>WBC</th>\n",
       "      <td>9900</td>\n",
       "      <td>15800</td>\n",
       "      <td>7900</td>\n",
       "      <td>7900</td>\n",
       "      <td>6900</td>\n",
       "    </tr>\n",
       "    <tr>\n",
       "      <th>RBC</th>\n",
       "      <td>4.26</td>\n",
       "      <td>5.74</td>\n",
       "      <td>4.83</td>\n",
       "      <td>4.83</td>\n",
       "      <td>4.41</td>\n",
       "    </tr>\n",
       "    <tr>\n",
       "      <th>Hemoglobin</th>\n",
       "      <td>11.6</td>\n",
       "      <td>14.5</td>\n",
       "      <td>14.1</td>\n",
       "      <td>14.1</td>\n",
       "      <td>12.3</td>\n",
       "    </tr>\n",
       "    <tr>\n",
       "      <th>P.C.V</th>\n",
       "      <td>0.34</td>\n",
       "      <td>0.44</td>\n",
       "      <td>0.42</td>\n",
       "      <td>0.42</td>\n",
       "      <td>0.36</td>\n",
       "    </tr>\n",
       "    <tr>\n",
       "      <th>M.C.V</th>\n",
       "      <td>79.7</td>\n",
       "      <td>78.0</td>\n",
       "      <td>87.0</td>\n",
       "      <td>87.0</td>\n",
       "      <td>82.0</td>\n",
       "    </tr>\n",
       "    <tr>\n",
       "      <th>M.C.H</th>\n",
       "      <td>27.2</td>\n",
       "      <td>25.0</td>\n",
       "      <td>29.0</td>\n",
       "      <td>29.0</td>\n",
       "      <td>27.0</td>\n",
       "    </tr>\n",
       "    <tr>\n",
       "      <th>M.C.H.C</th>\n",
       "      <td>0.34</td>\n",
       "      <td>0.32</td>\n",
       "      <td>0.33</td>\n",
       "      <td>0.33</td>\n",
       "      <td>0.33</td>\n",
       "    </tr>\n",
       "    <tr>\n",
       "      <th>PLATELET_COUNT</th>\n",
       "      <td>265000</td>\n",
       "      <td>287000</td>\n",
       "      <td>183000</td>\n",
       "      <td>183000</td>\n",
       "      <td>211000</td>\n",
       "    </tr>\n",
       "    <tr>\n",
       "      <th>NEUTROPHIL</th>\n",
       "      <td>0.7</td>\n",
       "      <td>0.73</td>\n",
       "      <td>0.6</td>\n",
       "      <td>0.6</td>\n",
       "      <td>0.71</td>\n",
       "    </tr>\n",
       "    <tr>\n",
       "      <th>LYMPHO</th>\n",
       "      <td>0.25</td>\n",
       "      <td>0.2</td>\n",
       "      <td>0.33</td>\n",
       "      <td>0.33</td>\n",
       "      <td>0.25</td>\n",
       "    </tr>\n",
       "    <tr>\n",
       "      <th>MONOCYTE</th>\n",
       "      <td>0.03</td>\n",
       "      <td>0.04</td>\n",
       "      <td>0.04</td>\n",
       "      <td>0.04</td>\n",
       "      <td>0.02</td>\n",
       "    </tr>\n",
       "    <tr>\n",
       "      <th>EOSINO</th>\n",
       "      <td>2</td>\n",
       "      <td>3</td>\n",
       "      <td>3</td>\n",
       "      <td>3</td>\n",
       "      <td>2</td>\n",
       "    </tr>\n",
       "    <tr>\n",
       "      <th>Others</th>\n",
       "      <td>no</td>\n",
       "      <td>no</td>\n",
       "      <td>LV dysfunction</td>\n",
       "      <td>HTN</td>\n",
       "      <td>no</td>\n",
       "    </tr>\n",
       "    <tr>\n",
       "      <th>CO</th>\n",
       "      <td>Chest pain,</td>\n",
       "      <td>Central Chest pain,</td>\n",
       "      <td>Chest pain,SOB, Cold sweating</td>\n",
       "      <td>CENTRAL Chest pain,</td>\n",
       "      <td>Chest pain,</td>\n",
       "    </tr>\n",
       "    <tr>\n",
       "      <th>Diagnosis</th>\n",
       "      <td>EXT. ACUTE WALL M.I</td>\n",
       "      <td>A/W M.I</td>\n",
       "      <td>AC I/W M.I (RV) RE. M.I</td>\n",
       "      <td>I/W M.I</td>\n",
       "      <td>A/W M.I</td>\n",
       "    </tr>\n",
       "    <tr>\n",
       "      <th>Hypersensitivity</th>\n",
       "      <td>NO</td>\n",
       "      <td>NO</td>\n",
       "      <td>NO</td>\n",
       "      <td>NO</td>\n",
       "      <td>NO</td>\n",
       "    </tr>\n",
       "    <tr>\n",
       "      <th>cp</th>\n",
       "      <td>4</td>\n",
       "      <td>4</td>\n",
       "      <td>4</td>\n",
       "      <td>4</td>\n",
       "      <td>4</td>\n",
       "    </tr>\n",
       "    <tr>\n",
       "      <th>trestbps</th>\n",
       "      <td>132</td>\n",
       "      <td>130</td>\n",
       "      <td>180</td>\n",
       "      <td>128</td>\n",
       "      <td>200</td>\n",
       "    </tr>\n",
       "    <tr>\n",
       "      <th>chol</th>\n",
       "      <td>341</td>\n",
       "      <td>305</td>\n",
       "      <td>327</td>\n",
       "      <td>205</td>\n",
       "      <td>288</td>\n",
       "    </tr>\n",
       "    <tr>\n",
       "      <th>fbs</th>\n",
       "      <td>1</td>\n",
       "      <td>0</td>\n",
       "      <td>0</td>\n",
       "      <td>0</td>\n",
       "      <td>1</td>\n",
       "    </tr>\n",
       "    <tr>\n",
       "      <th>restecg</th>\n",
       "      <td>2</td>\n",
       "      <td>0</td>\n",
       "      <td>1</td>\n",
       "      <td>1</td>\n",
       "      <td>2</td>\n",
       "    </tr>\n",
       "    <tr>\n",
       "      <th>thalach</th>\n",
       "      <td>136</td>\n",
       "      <td>142</td>\n",
       "      <td>117</td>\n",
       "      <td>130</td>\n",
       "      <td>133</td>\n",
       "    </tr>\n",
       "    <tr>\n",
       "      <th>exang</th>\n",
       "      <td>1</td>\n",
       "      <td>1</td>\n",
       "      <td>1</td>\n",
       "      <td>1</td>\n",
       "      <td>1</td>\n",
       "    </tr>\n",
       "    <tr>\n",
       "      <th>oldpeak</th>\n",
       "      <td>3.0</td>\n",
       "      <td>1.2</td>\n",
       "      <td>3.4</td>\n",
       "      <td>2.0</td>\n",
       "      <td>4.0</td>\n",
       "    </tr>\n",
       "    <tr>\n",
       "      <th>slope</th>\n",
       "      <td>2</td>\n",
       "      <td>2</td>\n",
       "      <td>2</td>\n",
       "      <td>2</td>\n",
       "      <td>3</td>\n",
       "    </tr>\n",
       "    <tr>\n",
       "      <th>ca</th>\n",
       "      <td>0</td>\n",
       "      <td>0</td>\n",
       "      <td>0</td>\n",
       "      <td>1</td>\n",
       "      <td>2</td>\n",
       "    </tr>\n",
       "    <tr>\n",
       "      <th>thal</th>\n",
       "      <td>7</td>\n",
       "      <td>7</td>\n",
       "      <td>3</td>\n",
       "      <td>7</td>\n",
       "      <td>7</td>\n",
       "    </tr>\n",
       "    <tr>\n",
       "      <th>num</th>\n",
       "      <td>2</td>\n",
       "      <td>2</td>\n",
       "      <td>2</td>\n",
       "      <td>3</td>\n",
       "      <td>3</td>\n",
       "    </tr>\n",
       "    <tr>\n",
       "      <th>SK</th>\n",
       "      <td>1</td>\n",
       "      <td>1</td>\n",
       "      <td>1</td>\n",
       "      <td>1</td>\n",
       "      <td>1</td>\n",
       "    </tr>\n",
       "    <tr>\n",
       "      <th>SK.React</th>\n",
       "      <td>NO</td>\n",
       "      <td>NO</td>\n",
       "      <td>NO</td>\n",
       "      <td>NO</td>\n",
       "      <td>NO</td>\n",
       "    </tr>\n",
       "    <tr>\n",
       "      <th>Reaction</th>\n",
       "      <td>0</td>\n",
       "      <td>0</td>\n",
       "      <td>0</td>\n",
       "      <td>0</td>\n",
       "      <td>0</td>\n",
       "    </tr>\n",
       "    <tr>\n",
       "      <th>Mortality</th>\n",
       "      <td>0</td>\n",
       "      <td>0</td>\n",
       "      <td>0</td>\n",
       "      <td>0</td>\n",
       "      <td>0</td>\n",
       "    </tr>\n",
       "    <tr>\n",
       "      <th>Follow.Up</th>\n",
       "      <td>60</td>\n",
       "      <td>15</td>\n",
       "      <td>6</td>\n",
       "      <td>52</td>\n",
       "      <td>34</td>\n",
       "    </tr>\n",
       "  </tbody>\n",
       "</table>\n",
       "</div>"
      ],
      "text/plain": [
       "                                                                      0  \\\n",
       "Age                                                                  45   \n",
       "Age.Group                                                         41-50   \n",
       "Gender                                                           Female   \n",
       "Locality                                                          RURAL   \n",
       "Marital status                                                  MARRIED   \n",
       "Life.Style                                     ...                   NO   \n",
       "Sleep                                                                NO   \n",
       "Category                                                           FREE   \n",
       "Depression                                                          YES   \n",
       "Hyperlipi                                                           YES   \n",
       "Smoking                                                              NO   \n",
       "Family.History                                                       NO   \n",
       "F.History                                                             0   \n",
       "Diabetes                                                              1   \n",
       "HTN                                                                  NO   \n",
       "Allergies                                                            NO   \n",
       "BP                                                                100.6   \n",
       "Thrombolysis                                                          0   \n",
       "BGR                                                                  84   \n",
       "B.Urea                                                             28.0   \n",
       "S.Cr                                                                0.9   \n",
       "S.Sodium                                                            138   \n",
       "S.Potassium                                                         3.3   \n",
       "S.Chloride                                                          107   \n",
       "C.P.K                                                               130   \n",
       "CK.MB                                                                30   \n",
       "ESR                                                                  11   \n",
       "WBC                                                                9900   \n",
       "RBC                                                                4.26   \n",
       "Hemoglobin                                                         11.6   \n",
       "P.C.V                                                              0.34   \n",
       "M.C.V                                                              79.7   \n",
       "M.C.H                                                              27.2   \n",
       "M.C.H.C                                                            0.34   \n",
       "PLATELET_COUNT                                                   265000   \n",
       "NEUTROPHIL                                                          0.7   \n",
       "LYMPHO                                                             0.25   \n",
       "MONOCYTE                                                           0.03   \n",
       "EOSINO                                                                2   \n",
       "Others                                                               no   \n",
       "CO                                                          Chest pain,   \n",
       "Diagnosis                                           EXT. ACUTE WALL M.I   \n",
       "Hypersensitivity                                                     NO   \n",
       "cp                                                                    4   \n",
       "trestbps                                                            132   \n",
       "chol                                                                341   \n",
       "fbs                                                                   1   \n",
       "restecg                                                               2   \n",
       "thalach                                                             136   \n",
       "exang                                                                 1   \n",
       "oldpeak                                                             3.0   \n",
       "slope                                                                 2   \n",
       "ca                                                                    0   \n",
       "thal                                                                  7   \n",
       "num                                                                   2   \n",
       "SK                                                                    1   \n",
       "SK.React                                                             NO   \n",
       "Reaction                                                              0   \n",
       "Mortality                                                             0   \n",
       "Follow.Up                                                            60   \n",
       "\n",
       "                                                                      1  \\\n",
       "Age                                                                  51   \n",
       "Age.Group                                                         51-60   \n",
       "Gender                                                           Female   \n",
       "Locality                                                          URBAN   \n",
       "Marital status                                                  MARRIED   \n",
       "Life.Style                                     ...                   NO   \n",
       "Sleep                                                                NO   \n",
       "Category                                                           FREE   \n",
       "Depression                                                          YES   \n",
       "Hyperlipi                                                           YES   \n",
       "Smoking                                                              NO   \n",
       "Family.History                                                       NO   \n",
       "F.History                                                             0   \n",
       "Diabetes                                                              0   \n",
       "HTN                                                                  NO   \n",
       "Allergies                                                            NO   \n",
       "BP                                                                 90.6   \n",
       "Thrombolysis                                                          0   \n",
       "BGR                                                                 135   \n",
       "B.Urea                                                             17.0   \n",
       "S.Cr                                                                0.7   \n",
       "S.Sodium                                                            144   \n",
       "S.Potassium                                                         4.7   \n",
       "S.Chloride                                                          104   \n",
       "C.P.K                                                               163   \n",
       "CK.MB                                                                30   \n",
       "ESR                                                                  27   \n",
       "WBC                                                               15800   \n",
       "RBC                                                                5.74   \n",
       "Hemoglobin                                                         14.5   \n",
       "P.C.V                                                              0.44   \n",
       "M.C.V                                                              78.0   \n",
       "M.C.H                                                              25.0   \n",
       "M.C.H.C                                                            0.32   \n",
       "PLATELET_COUNT                                                   287000   \n",
       "NEUTROPHIL                                                         0.73   \n",
       "LYMPHO                                                              0.2   \n",
       "MONOCYTE                                                           0.04   \n",
       "EOSINO                                                                3   \n",
       "Others                                                               no   \n",
       "CO                                                  Central Chest pain,   \n",
       "Diagnosis                                                       A/W M.I   \n",
       "Hypersensitivity                                                     NO   \n",
       "cp                                                                    4   \n",
       "trestbps                                                            130   \n",
       "chol                                                                305   \n",
       "fbs                                                                   0   \n",
       "restecg                                                               0   \n",
       "thalach                                                             142   \n",
       "exang                                                                 1   \n",
       "oldpeak                                                             1.2   \n",
       "slope                                                                 2   \n",
       "ca                                                                    0   \n",
       "thal                                                                  7   \n",
       "num                                                                   2   \n",
       "SK                                                                    1   \n",
       "SK.React                                                             NO   \n",
       "Reaction                                                              0   \n",
       "Mortality                                                             0   \n",
       "Follow.Up                                                            15   \n",
       "\n",
       "                                                                                2  \\\n",
       "Age                                                                            55   \n",
       "Age.Group                                                                   51-60   \n",
       "Gender                                                                     Female   \n",
       "Locality                                                                    RURAL   \n",
       "Marital status                                                            MARRIED   \n",
       "Life.Style                                     ...                            YES   \n",
       "Sleep                                                                         YES   \n",
       "Category                                                                     FREE   \n",
       "Depression                                                                    YES   \n",
       "Hyperlipi                                                                     YES   \n",
       "Smoking                                                                        NO   \n",
       "Family.History                                                                 NO   \n",
       "F.History                                                                       0   \n",
       "Diabetes                                                                        1   \n",
       "HTN                                                                           YES   \n",
       "Allergies                                                                      NO   \n",
       "BP                                                                          100.7   \n",
       "Thrombolysis                                                                    0   \n",
       "BGR                                                                           146   \n",
       "B.Urea                                                                       37.0   \n",
       "S.Cr                                                                          1.0   \n",
       "S.Sodium                                                                      137   \n",
       "S.Potassium                                                                   4.2   \n",
       "S.Chloride                                                                    103   \n",
       "C.P.K                                                                         149   \n",
       "CK.MB                                                                          22   \n",
       "ESR                                                                            19   \n",
       "WBC                                                                          7900   \n",
       "RBC                                                                          4.83   \n",
       "Hemoglobin                                                                   14.1   \n",
       "P.C.V                                                                        0.42   \n",
       "M.C.V                                                                        87.0   \n",
       "M.C.H                                                                        29.0   \n",
       "M.C.H.C                                                                      0.33   \n",
       "PLATELET_COUNT                                                             183000   \n",
       "NEUTROPHIL                                                                    0.6   \n",
       "LYMPHO                                                                       0.33   \n",
       "MONOCYTE                                                                     0.04   \n",
       "EOSINO                                                                          3   \n",
       "Others                                                             LV dysfunction   \n",
       "CO                                                  Chest pain,SOB, Cold sweating   \n",
       "Diagnosis                                                AC I/W M.I (RV) RE. M.I    \n",
       "Hypersensitivity                                                               NO   \n",
       "cp                                                                              4   \n",
       "trestbps                                                                      180   \n",
       "chol                                                                          327   \n",
       "fbs                                                                             0   \n",
       "restecg                                                                         1   \n",
       "thalach                                                                       117   \n",
       "exang                                                                           1   \n",
       "oldpeak                                                                       3.4   \n",
       "slope                                                                           2   \n",
       "ca                                                                              0   \n",
       "thal                                                                            3   \n",
       "num                                                                             2   \n",
       "SK                                                                              1   \n",
       "SK.React                                                                       NO   \n",
       "Reaction                                                                        0   \n",
       "Mortality                                                                       0   \n",
       "Follow.Up                                                                       6   \n",
       "\n",
       "                                                                      3  \\\n",
       "Age                                                                  55   \n",
       "Age.Group                                                         51-60   \n",
       "Gender                                                           Female   \n",
       "Locality                                                          RURAL   \n",
       "Marital status                                                  MARRIED   \n",
       "Life.Style                                     ...                  YES   \n",
       "Sleep                                                               YES   \n",
       "Category                                                           FREE   \n",
       "Depression                                                          YES   \n",
       "Hyperlipi                                                           YES   \n",
       "Smoking                                                              NO   \n",
       "Family.History                                                       NO   \n",
       "F.History                                                             0   \n",
       "Diabetes                                                              1   \n",
       "HTN                                                                 YES   \n",
       "Allergies                                                            NO   \n",
       "BP                                                                160.1   \n",
       "Thrombolysis                                                          0   \n",
       "BGR                                                                 146   \n",
       "B.Urea                                                             37.0   \n",
       "S.Cr                                                                1.0   \n",
       "S.Sodium                                                            137   \n",
       "S.Potassium                                                         4.2   \n",
       "S.Chloride                                                          103   \n",
       "C.P.K                                                               149   \n",
       "CK.MB                                                                22   \n",
       "ESR                                                                  19   \n",
       "WBC                                                                7900   \n",
       "RBC                                                                4.83   \n",
       "Hemoglobin                                                         14.1   \n",
       "P.C.V                                                              0.42   \n",
       "M.C.V                                                              87.0   \n",
       "M.C.H                                                              29.0   \n",
       "M.C.H.C                                                            0.33   \n",
       "PLATELET_COUNT                                                   183000   \n",
       "NEUTROPHIL                                                          0.6   \n",
       "LYMPHO                                                             0.33   \n",
       "MONOCYTE                                                           0.04   \n",
       "EOSINO                                                                3   \n",
       "Others                                                              HTN   \n",
       "CO                                                  CENTRAL Chest pain,   \n",
       "Diagnosis                                                       I/W M.I   \n",
       "Hypersensitivity                                                     NO   \n",
       "cp                                                                    4   \n",
       "trestbps                                                            128   \n",
       "chol                                                                205   \n",
       "fbs                                                                   0   \n",
       "restecg                                                               1   \n",
       "thalach                                                             130   \n",
       "exang                                                                 1   \n",
       "oldpeak                                                             2.0   \n",
       "slope                                                                 2   \n",
       "ca                                                                    1   \n",
       "thal                                                                  7   \n",
       "num                                                                   3   \n",
       "SK                                                                    1   \n",
       "SK.React                                                             NO   \n",
       "Reaction                                                              0   \n",
       "Mortality                                                             0   \n",
       "Follow.Up                                                            52   \n",
       "\n",
       "                                                              4  \n",
       "Age                                                          56  \n",
       "Age.Group                                                 51-60  \n",
       "Gender                                                   Female  \n",
       "Locality                                                  RURAL  \n",
       "Marital status                                          MARRIED  \n",
       "Life.Style                                     ...          YES  \n",
       "Sleep                                                        NO  \n",
       "Category                                                   FREE  \n",
       "Depression                                                  YES  \n",
       "Hyperlipi                                                   YES  \n",
       "Smoking                                                      NO  \n",
       "Family.History                                               NO  \n",
       "F.History                                                     0  \n",
       "Diabetes                                                      1  \n",
       "HTN                                                         YES  \n",
       "Allergies                                                    NO  \n",
       "BP                                                         90.6  \n",
       "Thrombolysis                                                  0  \n",
       "BGR                                                          85  \n",
       "B.Urea                                                     78.0  \n",
       "S.Cr                                                        1.2  \n",
       "S.Sodium                                                    139  \n",
       "S.Potassium                                                 4.5  \n",
       "S.Chloride                                                  112  \n",
       "C.P.K                                                        75  \n",
       "CK.MB                                                        18  \n",
       "ESR                                                          13  \n",
       "WBC                                                        6900  \n",
       "RBC                                                        4.41  \n",
       "Hemoglobin                                                 12.3  \n",
       "P.C.V                                                      0.36  \n",
       "M.C.V                                                      82.0  \n",
       "M.C.H                                                      27.0  \n",
       "M.C.H.C                                                    0.33  \n",
       "PLATELET_COUNT                                           211000  \n",
       "NEUTROPHIL                                                 0.71  \n",
       "LYMPHO                                                     0.25  \n",
       "MONOCYTE                                                   0.02  \n",
       "EOSINO                                                        2  \n",
       "Others                                                       no  \n",
       "CO                                                  Chest pain,  \n",
       "Diagnosis                                               A/W M.I  \n",
       "Hypersensitivity                                             NO  \n",
       "cp                                                            4  \n",
       "trestbps                                                    200  \n",
       "chol                                                        288  \n",
       "fbs                                                           1  \n",
       "restecg                                                       2  \n",
       "thalach                                                     133  \n",
       "exang                                                         1  \n",
       "oldpeak                                                     4.0  \n",
       "slope                                                         3  \n",
       "ca                                                            2  \n",
       "thal                                                          7  \n",
       "num                                                           3  \n",
       "SK                                                            1  \n",
       "SK.React                                                     NO  \n",
       "Reaction                                                      0  \n",
       "Mortality                                                     0  \n",
       "Follow.Up                                                    34  "
      ]
     },
     "execution_count": 4,
     "metadata": {},
     "output_type": "execute_result"
    }
   ],
   "source": [
    "# Transposing the first 5 rows from the dataset for better viewing and understanding\n",
    "\n",
    "df.head(5).transpose()"
   ]
  },
  {
   "cell_type": "markdown",
   "id": "b1d4b67f",
   "metadata": {},
   "source": [
    "After looking through the columns and searching their meanings, I've choosen to use these variables for my EDA:<br>\n",
    "'Age', 'Gender', 'Depression', 'Smoking', 'Family.History', 'Diabetes', 'C.P.K', 'Hemoglobin', 'trestbps', 'chol', 'thalach', 'Hyperlipi', 'PLATELET_COUNT' and 'Mortality'.<br>\n",
    "These **13 columns** are going to be considered along with the EDA."
   ]
  },
  {
   "cell_type": "code",
   "execution_count": 5,
   "id": "3ec340e0",
   "metadata": {},
   "outputs": [],
   "source": [
    "# Creating a new DataFrame with the choosen columns\n",
    "\n",
    "df = df[['Age','Gender','Depression','Smoking','Family.History','Diabetes',\n",
    "    'C.P.K','Hemoglobin','trestbps','chol','thalach','Hyperlipi','PLATELET_COUNT','Mortality']]"
   ]
  },
  {
   "cell_type": "code",
   "execution_count": 6,
   "id": "9f8d15cb",
   "metadata": {},
   "outputs": [],
   "source": [
    "# Changing columns names\n",
    "\n",
    "df.rename(columns={\"C.P.K\":\"CPK\",\"trestbps\":\"BloodPressRest\",\"chol\":\"cholesterol\",\"thalach\":\"MaxHeartRate\"\n",
    "                   ,\"PLATELET_COUNT\":\"PlateletCount\"}, inplace=True)"
   ]
  },
  {
   "cell_type": "markdown",
   "id": "0c3e77ad",
   "metadata": {},
   "source": [
    "### Statistics overview"
   ]
  },
  {
   "cell_type": "code",
   "execution_count": 7,
   "id": "6ec16601",
   "metadata": {},
   "outputs": [
    {
     "data": {
      "text/html": [
       "<div>\n",
       "<style scoped>\n",
       "    .dataframe tbody tr th:only-of-type {\n",
       "        vertical-align: middle;\n",
       "    }\n",
       "\n",
       "    .dataframe tbody tr th {\n",
       "        vertical-align: top;\n",
       "    }\n",
       "\n",
       "    .dataframe thead th {\n",
       "        text-align: right;\n",
       "    }\n",
       "</style>\n",
       "<table border=\"1\" class=\"dataframe\">\n",
       "  <thead>\n",
       "    <tr style=\"text-align: right;\">\n",
       "      <th></th>\n",
       "      <th>count</th>\n",
       "      <th>mean</th>\n",
       "      <th>std</th>\n",
       "      <th>min</th>\n",
       "      <th>25%</th>\n",
       "      <th>50%</th>\n",
       "      <th>75%</th>\n",
       "      <th>max</th>\n",
       "    </tr>\n",
       "  </thead>\n",
       "  <tbody>\n",
       "    <tr>\n",
       "      <th>Age</th>\n",
       "      <td>368.0</td>\n",
       "      <td>54.3</td>\n",
       "      <td>8.7</td>\n",
       "      <td>24.0</td>\n",
       "      <td>50.8</td>\n",
       "      <td>55.0</td>\n",
       "      <td>60.2</td>\n",
       "      <td>77.0</td>\n",
       "    </tr>\n",
       "    <tr>\n",
       "      <th>Diabetes</th>\n",
       "      <td>368.0</td>\n",
       "      <td>0.5</td>\n",
       "      <td>0.5</td>\n",
       "      <td>0.0</td>\n",
       "      <td>0.0</td>\n",
       "      <td>0.0</td>\n",
       "      <td>1.0</td>\n",
       "      <td>1.0</td>\n",
       "    </tr>\n",
       "    <tr>\n",
       "      <th>CPK</th>\n",
       "      <td>368.0</td>\n",
       "      <td>553.9</td>\n",
       "      <td>957.6</td>\n",
       "      <td>52.0</td>\n",
       "      <td>135.0</td>\n",
       "      <td>188.0</td>\n",
       "      <td>390.0</td>\n",
       "      <td>4289.0</td>\n",
       "    </tr>\n",
       "    <tr>\n",
       "      <th>Hemoglobin</th>\n",
       "      <td>368.0</td>\n",
       "      <td>13.9</td>\n",
       "      <td>2.2</td>\n",
       "      <td>9.1</td>\n",
       "      <td>12.3</td>\n",
       "      <td>14.2</td>\n",
       "      <td>15.5</td>\n",
       "      <td>18.0</td>\n",
       "    </tr>\n",
       "    <tr>\n",
       "      <th>BloodPressRest</th>\n",
       "      <td>368.0</td>\n",
       "      <td>132.7</td>\n",
       "      <td>18.2</td>\n",
       "      <td>100.0</td>\n",
       "      <td>120.0</td>\n",
       "      <td>130.0</td>\n",
       "      <td>142.0</td>\n",
       "      <td>200.0</td>\n",
       "    </tr>\n",
       "    <tr>\n",
       "      <th>cholesterol</th>\n",
       "      <td>368.0</td>\n",
       "      <td>248.9</td>\n",
       "      <td>50.1</td>\n",
       "      <td>131.0</td>\n",
       "      <td>212.0</td>\n",
       "      <td>249.0</td>\n",
       "      <td>283.0</td>\n",
       "      <td>409.0</td>\n",
       "    </tr>\n",
       "    <tr>\n",
       "      <th>MaxHeartRate</th>\n",
       "      <td>368.0</td>\n",
       "      <td>140.9</td>\n",
       "      <td>23.0</td>\n",
       "      <td>71.0</td>\n",
       "      <td>125.0</td>\n",
       "      <td>144.0</td>\n",
       "      <td>158.0</td>\n",
       "      <td>195.0</td>\n",
       "    </tr>\n",
       "    <tr>\n",
       "      <th>PlateletCount</th>\n",
       "      <td>368.0</td>\n",
       "      <td>248660.3</td>\n",
       "      <td>76707.6</td>\n",
       "      <td>20000.0</td>\n",
       "      <td>192000.0</td>\n",
       "      <td>237000.0</td>\n",
       "      <td>287000.0</td>\n",
       "      <td>459000.0</td>\n",
       "    </tr>\n",
       "    <tr>\n",
       "      <th>Mortality</th>\n",
       "      <td>368.0</td>\n",
       "      <td>0.2</td>\n",
       "      <td>0.4</td>\n",
       "      <td>0.0</td>\n",
       "      <td>0.0</td>\n",
       "      <td>0.0</td>\n",
       "      <td>0.0</td>\n",
       "      <td>1.0</td>\n",
       "    </tr>\n",
       "  </tbody>\n",
       "</table>\n",
       "</div>"
      ],
      "text/plain": [
       "                count      mean      std      min       25%       50%  \\\n",
       "Age             368.0      54.3      8.7     24.0      50.8      55.0   \n",
       "Diabetes        368.0       0.5      0.5      0.0       0.0       0.0   \n",
       "CPK             368.0     553.9    957.6     52.0     135.0     188.0   \n",
       "Hemoglobin      368.0      13.9      2.2      9.1      12.3      14.2   \n",
       "BloodPressRest  368.0     132.7     18.2    100.0     120.0     130.0   \n",
       "cholesterol     368.0     248.9     50.1    131.0     212.0     249.0   \n",
       "MaxHeartRate    368.0     140.9     23.0     71.0     125.0     144.0   \n",
       "PlateletCount   368.0  248660.3  76707.6  20000.0  192000.0  237000.0   \n",
       "Mortality       368.0       0.2      0.4      0.0       0.0       0.0   \n",
       "\n",
       "                     75%       max  \n",
       "Age                 60.2      77.0  \n",
       "Diabetes             1.0       1.0  \n",
       "CPK                390.0    4289.0  \n",
       "Hemoglobin          15.5      18.0  \n",
       "BloodPressRest     142.0     200.0  \n",
       "cholesterol        283.0     409.0  \n",
       "MaxHeartRate       158.0     195.0  \n",
       "PlateletCount   287000.0  459000.0  \n",
       "Mortality            0.0       1.0  "
      ]
     },
     "execution_count": 7,
     "metadata": {},
     "output_type": "execute_result"
    }
   ],
   "source": [
    "# Looking over the statistcs\n",
    "\n",
    "df.describe().T.round(1)"
   ]
  },
  {
   "cell_type": "markdown",
   "id": "8e3bdf34",
   "metadata": {},
   "source": [
    "Despite of the 13 cloumns present in the dataset, the *describe()* method only show us 9 columns. That occurs because it is only applicable to the numeric columns!"
   ]
  },
  {
   "cell_type": "markdown",
   "id": "b508de53",
   "metadata": {},
   "source": [
    "### Null Values\n"
   ]
  },
  {
   "cell_type": "code",
   "execution_count": 8,
   "id": "9379c6f5",
   "metadata": {
    "scrolled": true
   },
   "outputs": [
    {
     "data": {
      "text/plain": [
       "Age               0\n",
       "Gender            0\n",
       "Depression        0\n",
       "Smoking           0\n",
       "Family.History    0\n",
       "Diabetes          0\n",
       "CPK               0\n",
       "Hemoglobin        0\n",
       "BloodPressRest    0\n",
       "cholesterol       0\n",
       "MaxHeartRate      0\n",
       "Hyperlipi         0\n",
       "PlateletCount     0\n",
       "Mortality         0\n",
       "dtype: int64"
      ]
     },
     "execution_count": 8,
     "metadata": {},
     "output_type": "execute_result"
    }
   ],
   "source": [
    "# Checking for NULL values\n",
    "\n",
    "df.isna().sum()"
   ]
  },
  {
   "cell_type": "markdown",
   "id": "845eeec2",
   "metadata": {},
   "source": [
    "It seems there aren't any NULL values"
   ]
  },
  {
   "cell_type": "markdown",
   "id": "df8c0e0e",
   "metadata": {},
   "source": [
    "### Data types"
   ]
  },
  {
   "cell_type": "code",
   "execution_count": 9,
   "id": "08a0c522",
   "metadata": {
    "scrolled": false
   },
   "outputs": [
    {
     "name": "stdout",
     "output_type": "stream",
     "text": [
      "<class 'pandas.core.frame.DataFrame'>\n",
      "RangeIndex: 368 entries, 0 to 367\n",
      "Data columns (total 14 columns):\n",
      " #   Column          Non-Null Count  Dtype  \n",
      "---  ------          --------------  -----  \n",
      " 0   Age             368 non-null    int64  \n",
      " 1   Gender          368 non-null    object \n",
      " 2   Depression      368 non-null    object \n",
      " 3   Smoking         368 non-null    object \n",
      " 4   Family.History  368 non-null    object \n",
      " 5   Diabetes        368 non-null    int64  \n",
      " 6   CPK             368 non-null    int64  \n",
      " 7   Hemoglobin      368 non-null    float64\n",
      " 8   BloodPressRest  368 non-null    int64  \n",
      " 9   cholesterol     368 non-null    int64  \n",
      " 10  MaxHeartRate    368 non-null    int64  \n",
      " 11  Hyperlipi       368 non-null    object \n",
      " 12  PlateletCount   368 non-null    int64  \n",
      " 13  Mortality       368 non-null    int64  \n",
      "dtypes: float64(1), int64(8), object(5)\n",
      "memory usage: 40.4+ KB\n"
     ]
    }
   ],
   "source": [
    "# Checking for data types in the dataset\n",
    "\n",
    "df.info()"
   ]
  },
  {
   "cell_type": "markdown",
   "id": "5893683d",
   "metadata": {},
   "source": [
    "Our **Mortality** variable will be the focus of this EDA, wich represents if the pacient is alive (1) or has died (0)."
   ]
  },
  {
   "cell_type": "markdown",
   "id": "ed98055e",
   "metadata": {},
   "source": [
    "## Exploratory Analysis\n"
   ]
  },
  {
   "cell_type": "markdown",
   "id": "4202adde",
   "metadata": {},
   "source": [
    "We will reverse these Mortality and Dibetes values (1;0), in order to establish it as default is the fact that in the <span style=\"color:blue\">presence</span> of the respective condition the <span style=\"color:blue\">value 1</span> is going to be assigned, and in the <span style=\"color:red\">absence</span> of the same the <span style=\"color:red\">value 0</span> is going to be assigned."
   ]
  },
  {
   "cell_type": "code",
   "execution_count": 10,
   "id": "e86ffebb",
   "metadata": {},
   "outputs": [],
   "source": [
    "# Reversing the values from \"Diabetes\" and \"Mortality\"\n",
    "df[\"Diabetes\"].replace({1:0, 0:1}, inplace=True)\n",
    "df[\"Mortality\"].replace({1:0, 0:1}, inplace=True)"
   ]
  },
  {
   "cell_type": "code",
   "execution_count": 11,
   "id": "0a8535c5",
   "metadata": {},
   "outputs": [],
   "source": [
    "# Creating a copy dataframe replacing categorical variables for dummies\n",
    "df_numeric = df.copy()\n",
    "\n",
    "# Setting all the \"NO\" values to 0, and all the \"YES\" values to 1\n",
    "df_numeric = df_numeric.replace({\"YES\":1, \"NO\":0})"
   ]
  },
  {
   "cell_type": "markdown",
   "id": "b780be62",
   "metadata": {},
   "source": [
    "## Univariate and Bivariate Analysis"
   ]
  },
  {
   "cell_type": "markdown",
   "id": "c36cdfc8",
   "metadata": {},
   "source": [
    "In this part, I am going to analyse each variable (each column) by plotting it's corresponding distribution plot first. Then, I am going to analyse the relation between the current variable with the focused one (Mortality).\n",
    "<br>\n",
    "Also, aiming to better reading the graphs below, I will consider when <span style=\"color:blue\">Mortality = 0</span>, that it means that <span style=\"color:blue\">the person has survived</span> from the Heart Failure event; and, when <span style=\"color:red\">Mortality = 1</span>, that it means that <span style=\"color:red\">the person hasn't survived</span> from the Heart Faliure event."
   ]
  },
  {
   "cell_type": "markdown",
   "id": "18a3e8fd",
   "metadata": {},
   "source": [
    "### Age"
   ]
  },
  {
   "cell_type": "markdown",
   "id": "9fd67b6d",
   "metadata": {},
   "source": [
    "#### Univariate"
   ]
  },
  {
   "cell_type": "code",
   "execution_count": 12,
   "id": "31ee0977",
   "metadata": {},
   "outputs": [
    {
     "data": {
      "text/plain": [
       "<Figure size 1440x360 with 0 Axes>"
      ]
     },
     "metadata": {},
     "output_type": "display_data"
    },
    {
     "data": {
      "image/png": "[encoded data removed]",
      "text/plain": [
       "<Figure size 832x468 with 1 Axes>"
      ]
     },
     "metadata": {
      "needs_background": "light"
     },
     "output_type": "display_data"
    }
   ],
   "source": [
    "# Configuring plot figure size\n",
    "plt.figure(figsize=(20,5))\n",
    "\n",
    "# Selecting plot data and plotting type\n",
    "graph = sns.displot(data=df_numeric, x=\"Age\", height=6.5, aspect=16/9, bins=25)\n",
    "\n",
    "# Setting a mean line\n",
    "mean_line = plt.axvline(x=df_numeric[\"Age\"].mean(), color='red', ls='--', lw=1.5, label=\"Mean\")\n",
    "\n",
    "# Setting plot's title\n",
    "graph.set(title=\"Age's distribution plot\")\n",
    "\n",
    "# Plotting legend for the mean line\n",
    "plt.legend()\n",
    "\n",
    "# Showing plot on JupyterNotebook\n",
    "plt.show()"
   ]
  },
  {
   "cell_type": "markdown",
   "id": "e6807b16",
   "metadata": {},
   "source": [
    "There is a higher concentration of individuals on the 50s - 60s range, that explains the mean between this range. With less individuals around 30 years old."
   ]
  },
  {
   "cell_type": "markdown",
   "id": "3fe8ef2f",
   "metadata": {},
   "source": [
    "#### Bivariate"
   ]
  },
  {
   "cell_type": "code",
   "execution_count": 13,
   "id": "88b9eb64",
   "metadata": {},
   "outputs": [
    {
     "data": {
      "text/plain": [
       "<Figure size 1440x360 with 0 Axes>"
      ]
     },
     "metadata": {},
     "output_type": "display_data"
    },
    {
     "data": {
      "image/png": "[encoded data removed]",
      "text/plain": [
       "<Figure size 832x468 with 1 Axes>"
      ]
     },
     "metadata": {
      "needs_background": "light"
     },
     "output_type": "display_data"
    }
   ],
   "source": [
    "# Configuring plot figure size\n",
    "plt.figure(figsize=(20,5))\n",
    "\n",
    "# Selecting plot data and plotting type\n",
    "graph = sns.displot(data=df_numeric, x=\"Age\", kde=True, hue=\"Mortality\", multiple=\"dodge\", height=6.5, aspect=16/9, legend= False)\n",
    "\n",
    "# Setting plot's title\n",
    "graph.set(title=\"Age's distribution plot correlating with Mortality\")\n",
    "\n",
    "# Plotting legend\n",
    "plt.legend(labels=[\"Non-survivor\",\"Survivor\"])\n",
    "\n",
    "# Showing plot on JupyterNotebook\n",
    "plt.show()"
   ]
  },
  {
   "cell_type": "markdown",
   "id": "8c893373",
   "metadata": {},
   "source": [
    "It looks like there was a higher concentration of mortality around the ages 50 - 65. But we need to be careful when analysing this graph, because it is only accounting for the total of non-survivors (Mortality = Yes) and survivors (Mortality = No) by their age, not considering the total people by age. <br> To better understand this relationship we are going to create a new plot where we can see the relative mortality's couting for each group."
   ]
  },
  {
   "cell_type": "code",
   "execution_count": 14,
   "id": "558cc254",
   "metadata": {},
   "outputs": [
    {
     "data": {
      "text/plain": [
       "<Figure size 1440x360 with 0 Axes>"
      ]
     },
     "metadata": {},
     "output_type": "display_data"
    },
    {
     "data": {
      "image/png": "[encoded data removed]",
      "text/plain": [
       "<Figure size 832x468 with 1 Axes>"
      ]
     },
     "metadata": {
      "needs_background": "light"
     },
     "output_type": "display_data"
    }
   ],
   "source": [
    "# Configuring plot figure size\n",
    "plt.figure(figsize=(20,5))\n",
    "\n",
    "# Selecting plot data and plotting type\n",
    "graph = sns.displot(data=df_numeric, x=\"Age\", hue=\"Mortality\", multiple=\"fill\", height=6.5, aspect=16/9, legend=False)\n",
    "\n",
    "# Setting plot's title\n",
    "graph.set(title=\"Distribution plot Age (with relative mortality's counting)\")\n",
    "\n",
    "# Plotting legend\n",
    "plt.legend(labels=[\"Non-survivor\",\"Survivor\"])\n",
    "\n",
    "# Showing plot on JupyterNotebook\n",
    "plt.show()"
   ]
  },
  {
   "cell_type": "markdown",
   "id": "940241d5",
   "metadata": {},
   "source": [
    "### Gender"
   ]
  },
  {
   "cell_type": "markdown",
   "id": "c5f6a87e",
   "metadata": {},
   "source": [
    "#### Univariate"
   ]
  },
  {
   "cell_type": "code",
   "execution_count": 15,
   "id": "e2f0e769",
   "metadata": {},
   "outputs": [
    {
     "data": {
      "text/plain": [
       "<Figure size 1440x360 with 0 Axes>"
      ]
     },
     "metadata": {},
     "output_type": "display_data"
    },
    {
     "data": {
      "image/png": "[encoded data removed]",
      "text/plain": [
       "<Figure size 832x468 with 1 Axes>"
      ]
     },
     "metadata": {
      "needs_background": "light"
     },
     "output_type": "display_data"
    }
   ],
   "source": [
    "# Configuring plot figure size\n",
    "plt.figure(figsize=(20,5))\n",
    "\n",
    "# Selecting plot data and plotting type\n",
    "graph = sns.catplot(data=df_numeric, x=\"Gender\", kind=\"count\", height=6.5, aspect=16/9)\n",
    "\n",
    "# Setting plot's title\n",
    "graph.set(title=\"Gender's distribution plot\")\n",
    "\n",
    "# Showing plot on JupyterNotebook\n",
    "plt.show()"
   ]
  },
  {
   "cell_type": "markdown",
   "id": "b4eb1f16",
   "metadata": {},
   "source": [
    "The chart shows that there are more Male individuals than Female ones on this dataset."
   ]
  },
  {
   "cell_type": "markdown",
   "id": "39118636",
   "metadata": {},
   "source": [
    "#### Bivariate"
   ]
  },
  {
   "cell_type": "code",
   "execution_count": 16,
   "id": "8f61769f",
   "metadata": {},
   "outputs": [
    {
     "data": {
      "text/plain": [
       "<Figure size 1440x360 with 0 Axes>"
      ]
     },
     "metadata": {},
     "output_type": "display_data"
    },
    {
     "data": {
      "image/png": "[encoded data removed]",
      "text/plain": [
       "<Figure size 832x468 with 1 Axes>"
      ]
     },
     "metadata": {
      "needs_background": "light"
     },
     "output_type": "display_data"
    }
   ],
   "source": [
    "# Configuring plot figure size\n",
    "plt.figure(figsize=(20,5))\n",
    "\n",
    "# Selecting plot data and plotting type\n",
    "graph = sns.catplot(data=df_numeric, x=\"Gender\", kind=\"count\", hue=\"Mortality\", height=6.5, aspect=16/9, legend=False)\n",
    "\n",
    "# Setting plot's title\n",
    "graph.set(title=\"Gender's distribution plot correlating with Mortality\")\n",
    "\n",
    "# Plotting legend\n",
    "plt.legend(labels=[\"Survivor\",\"Non-survivor\"])\n",
    "\n",
    "# Showing plot on JupyterNotebook\n",
    "plt.show()"
   ]
  },
  {
   "cell_type": "markdown",
   "id": "d057dd9b",
   "metadata": {},
   "source": [
    "When we look at the gender diferences, We can see that \"Male\" tend to have a higher Mortality rate when compared with the \"Female\" category."
   ]
  },
  {
   "cell_type": "code",
   "execution_count": 17,
   "id": "d0444cd1",
   "metadata": {},
   "outputs": [
    {
     "name": "stdout",
     "output_type": "stream",
     "text": [
      "More precisely, 77.0% of people on this dataset are from gender male.\n"
     ]
    }
   ],
   "source": [
    "val_count_gender = df_numeric[\"Gender\"].value_counts()\n",
    "print(\"More precisely, \" + str((val_count_gender[\"Male\"]/368).round(2) * 100) +\n",
    "      \"% of people on this dataset are from gender male.\")"
   ]
  },
  {
   "cell_type": "markdown",
   "id": "df363679",
   "metadata": {},
   "source": [
    "### *Heart Failure* Family History"
   ]
  },
  {
   "cell_type": "markdown",
   "id": "6a12bb5d",
   "metadata": {},
   "source": [
    "#### Univariate"
   ]
  },
  {
   "cell_type": "code",
   "execution_count": 18,
   "id": "76a60256",
   "metadata": {},
   "outputs": [
    {
     "data": {
      "text/plain": [
       "<Figure size 1440x360 with 0 Axes>"
      ]
     },
     "metadata": {},
     "output_type": "display_data"
    },
    {
     "data": {
      "image/png": "[encoded data removed]",
      "text/plain": [
       "<Figure size 832x468 with 1 Axes>"
      ]
     },
     "metadata": {
      "needs_background": "light"
     },
     "output_type": "display_data"
    }
   ],
   "source": [
    "# Configuring plot figure size\n",
    "plt.figure(figsize=(20,5))\n",
    "\n",
    "# Selecting plot data and plotting type\n",
    "graph = sns.catplot(data=df_numeric.replace({1:\"Yes\", 0:\"No\"}), x=\"Family.History\", kind=\"count\", height=6.5, aspect=16/9)\n",
    "\n",
    "# Setting plot's title\n",
    "graph.set(title=\"Heart Failure Family History distribution plot\")\n",
    "\n",
    "# Showing plot on JupyterNotebook\n",
    "plt.show()"
   ]
  },
  {
   "cell_type": "markdown",
   "id": "74a91244",
   "metadata": {},
   "source": [
    "The majority of the individuals in this dataset don't have a Heart Failure Family History."
   ]
  },
  {
   "cell_type": "markdown",
   "id": "d01e0288",
   "metadata": {},
   "source": [
    "#### Bivariate"
   ]
  },
  {
   "cell_type": "code",
   "execution_count": 19,
   "id": "e0d156f9",
   "metadata": {},
   "outputs": [
    {
     "data": {
      "text/plain": [
       "<Figure size 1440x360 with 0 Axes>"
      ]
     },
     "metadata": {},
     "output_type": "display_data"
    },
    {
     "data": {
      "image/png": "[encoded data removed]",
      "text/plain": [
       "<Figure size 832x468 with 1 Axes>"
      ]
     },
     "metadata": {
      "needs_background": "light"
     },
     "output_type": "display_data"
    }
   ],
   "source": [
    "# Configuring plot figure size\n",
    "plt.figure(figsize=(20,5))\n",
    "\n",
    "# Selecting plot data and plotting type\n",
    "graph = sns.catplot(data=df_numeric.replace({1:\"Yes\", 0:\"No\"}), x=\"Family.History\", kind=\"count\", hue=\"Mortality\", height=6.5, aspect=16/9, legend=False)\n",
    "\n",
    "# Setting plot's title\n",
    "graph.set(title=\"Heart Failure's Family History distribution plot correlating with Mortality\")\n",
    "\n",
    "# Plotting legend\n",
    "plt.legend(labels=[\"Non-survivor\",\"Survivor\"])\n",
    "\n",
    "# Showing plot on JupyterNotebook\n",
    "plt.show()"
   ]
  },
  {
   "cell_type": "markdown",
   "id": "237c7d31",
   "metadata": {},
   "source": [
    "This plot doesn't reveal great diferences or influences by the variables being considered. For this reason, I will try to establish a proportion relationship for each group (with Heart Failure family history, Family History = Yes; and without Heart Failure Family History, Family History = No).\n",
    "<br>\n",
    "Aligned by this propose, the proportions will be calculated dividing the number of non-survivors by the number of survivors."
   ]
  },
  {
   "cell_type": "code",
   "execution_count": 20,
   "id": "56776274",
   "metadata": {},
   "outputs": [
    {
     "name": "stdout",
     "output_type": "stream",
     "text": [
      "The mortality proportion (non-survivor /survivor) by those who have heart failure family history is: 8.0\n",
      "\n",
      "\n",
      "The mortality proportion (non-survivor /survivor) by those who don't have heart failure family history is: 3.1\n"
     ]
    }
   ],
   "source": [
    "# Data Frame with relative quantities for each situation (Fmaily History YES and NO)\n",
    "df_family_hist = df_numeric[[\"Family.History\", \"Mortality\"]]\n",
    "\n",
    "# Quantities\n",
    "#---- Family History == YES ----\n",
    "#   Mortality == YES and Family History == YES\n",
    "m_y_fm_y = df_family_hist[(df_family_hist[\"Mortality\"] == 1) & (df_family_hist[\"Family.History\"] == 1)].shape[0]\n",
    "\n",
    "#   Mortality == NO and Family History == YES\n",
    "m_n_fm_y = df_family_hist[(df_family_hist[\"Mortality\"] == 0) & (df_family_hist[\"Family.History\"] == 1)].shape[0]\n",
    "\n",
    "#---- Family History == NO ----\n",
    "#   Mortality == YES and Family History == NO\n",
    "m_y_fm_n = df_family_hist[(df_family_hist[\"Mortality\"] == 1) & (df_family_hist[\"Family.History\"] == 0)].shape[0]\n",
    "\n",
    "#   Mortality == NO and Family History == NO\n",
    "m_n_fm_n = df_family_hist[(df_family_hist[\"Mortality\"] == 0) & (df_family_hist[\"Family.History\"] == 0)].shape[0]\n",
    "\n",
    "\n",
    "print(\"The mortality proportion (non-survivor /survivor) by those who have heart failure family history is: \" + str(m_y_fm_y/m_n_fm_y))\n",
    "print('\\n')\n",
    "print(\"The mortality proportion (non-survivor /survivor) by those who don't have heart failure family history is: \" + str(round(m_y_fm_n/m_n_fm_n,1)))\n"
   ]
  },
  {
   "cell_type": "markdown",
   "id": "3289ca2d",
   "metadata": {},
   "source": [
    "As we can see in the diference between the proportions above, those who have heart failure family history have as well a higer proportion of mortality, it **may be** a causality."
   ]
  },
  {
   "cell_type": "markdown",
   "id": "c9beaf50",
   "metadata": {},
   "source": [
    "### Diabetes"
   ]
  },
  {
   "cell_type": "markdown",
   "id": "03c215e1",
   "metadata": {},
   "source": [
    "#### Univariate"
   ]
  },
  {
   "cell_type": "code",
   "execution_count": 21,
   "id": "ce21f399",
   "metadata": {},
   "outputs": [
    {
     "data": {
      "text/plain": [
       "<Figure size 1440x360 with 0 Axes>"
      ]
     },
     "metadata": {},
     "output_type": "display_data"
    },
    {
     "data": {
      "image/png": "[encoded data removed]",
      "text/plain": [
       "<Figure size 832x468 with 1 Axes>"
      ]
     },
     "metadata": {
      "needs_background": "light"
     },
     "output_type": "display_data"
    }
   ],
   "source": [
    "# Configuring plot figure size\n",
    "plt.figure(figsize=(20,5))\n",
    "\n",
    "# Selecting plot data and plotting type\n",
    "graph = sns.catplot(data=df_numeric.replace({1:\"Yes\", 0:\"No\"}), x=\"Diabetes\", kind=\"count\", height=6.5, aspect=16/9)\n",
    "\n",
    "# Setting plot's title\n",
    "graph.set(title=\"Diabetes distribution plot\")\n",
    "\n",
    "# Showing plot on JupyterNotebook\n",
    "plt.show()"
   ]
  },
  {
   "cell_type": "markdown",
   "id": "f3dccdeb",
   "metadata": {},
   "source": [
    "There isn't great diferences, in terms of counting, between those who have and those who doesn't have diabetes on this dataset."
   ]
  },
  {
   "cell_type": "markdown",
   "id": "2d866979",
   "metadata": {},
   "source": [
    "#### Bivariate"
   ]
  },
  {
   "cell_type": "code",
   "execution_count": 22,
   "id": "58f53e80",
   "metadata": {
    "scrolled": false
   },
   "outputs": [
    {
     "data": {
      "text/plain": [
       "<Figure size 1440x360 with 0 Axes>"
      ]
     },
     "metadata": {},
     "output_type": "display_data"
    },
    {
     "data": {
      "image/png": "[encoded data removed]",
      "text/plain": [
       "<Figure size 832x468 with 1 Axes>"
      ]
     },
     "metadata": {
      "needs_background": "light"
     },
     "output_type": "display_data"
    }
   ],
   "source": [
    "# Configuring plot figure size\n",
    "plt.figure(figsize=(20,5))\n",
    "\n",
    "# Selecting plot data and plotting type\n",
    "graph = sns.catplot(data=df_numeric.replace({1:\"Yes\", 0:\"No\"}), x=\"Diabetes\", kind=\"count\", hue=\"Mortality\", height=6.5, aspect=16/9, legend=False)\n",
    "\n",
    "# Setting plot's title\n",
    "graph.set(title=\"Diabetes' distribution plot correlating with Mortality\")\n",
    "\n",
    "# Plotting legend\n",
    "plt.legend(labels=[\"Non-survivor\",\"Survivor\"])\n",
    "\n",
    "# Showing plot on JupyterNotebook\n",
    "plt.show()"
   ]
  },
  {
   "cell_type": "markdown",
   "id": "de9ad2db",
   "metadata": {},
   "source": [
    "It's clear that the diabetics individuals had a smaller survival's rate when comparing with non-diabetics individuals."
   ]
  },
  {
   "cell_type": "markdown",
   "id": "44ab9779",
   "metadata": {},
   "source": [
    "### Smoking"
   ]
  },
  {
   "cell_type": "markdown",
   "id": "390cf20c",
   "metadata": {},
   "source": [
    "#### Univariate"
   ]
  },
  {
   "cell_type": "code",
   "execution_count": 23,
   "id": "4e0095db",
   "metadata": {},
   "outputs": [
    {
     "data": {
      "text/plain": [
       "<Figure size 1440x360 with 0 Axes>"
      ]
     },
     "metadata": {},
     "output_type": "display_data"
    },
    {
     "data": {
      "image/png": "[encoded data removed]",
      "text/plain": [
       "<Figure size 832x468 with 1 Axes>"
      ]
     },
     "metadata": {
      "needs_background": "light"
     },
     "output_type": "display_data"
    }
   ],
   "source": [
    "# Configuring plot figure size\n",
    "plt.figure(figsize=(20,5))\n",
    "\n",
    "# Selecting plot data and plotting type\n",
    "graph = sns.catplot(data=df_numeric.replace({1:\"Yes\", 0:\"No\"}), x=\"Smoking\", kind=\"count\", height=6.5, aspect=16/9)\n",
    "\n",
    "# Setting plot's title\n",
    "graph.set(title=\"Smoking's distribution plot\")\n",
    "\n",
    "# Showing plot on JupyterNotebook\n",
    "plt.show()"
   ]
  },
  {
   "cell_type": "markdown",
   "id": "371fe75f",
   "metadata": {},
   "source": [
    "This plot is very similar with Diabetes' distribution plot, also there isn't great diferences, in terms of counting, between those who smokes and those who don't on this dataset."
   ]
  },
  {
   "cell_type": "markdown",
   "id": "37e31731",
   "metadata": {},
   "source": [
    "#### Bivariate"
   ]
  },
  {
   "cell_type": "code",
   "execution_count": 24,
   "id": "30b8b618",
   "metadata": {},
   "outputs": [
    {
     "data": {
      "text/plain": [
       "<Figure size 1440x360 with 0 Axes>"
      ]
     },
     "metadata": {},
     "output_type": "display_data"
    },
    {
     "data": {
      "image/png": "[encoded data removed]",
      "text/plain": [
       "<Figure size 832x468 with 1 Axes>"
      ]
     },
     "metadata": {
      "needs_background": "light"
     },
     "output_type": "display_data"
    }
   ],
   "source": [
    "# Configuring plot figure size\n",
    "plt.figure(figsize=(20,5))\n",
    "\n",
    "# Selecting plot data and plotting type\n",
    "graph = sns.catplot(data=df_numeric.replace({1:\"Yes\", 0:\"No\"}), x=\"Smoking\", kind=\"count\", hue=\"Mortality\", height=6.5, aspect=16/9, legend=False)\n",
    "\n",
    "# Setting plot's title\n",
    "graph.set(title=\"Smoking's distribution plot correlating with Mortality\")\n",
    "\n",
    "# Plotting legend\n",
    "plt.legend(labels=[\"Non-survivor\",\"Survivor\"])\n",
    "\n",
    "# Showing plot on JupyterNotebook\n",
    "plt.show()"
   ]
  },
  {
   "cell_type": "markdown",
   "id": "54e53b5f",
   "metadata": {},
   "source": [
    "Similarly with 'Heart Failure's Family History distribution plot correlating with Mortality', this plot needs to be normalized and analysed by its proportions for each group."
   ]
  },
  {
   "cell_type": "code",
   "execution_count": 25,
   "id": "ccb938e3",
   "metadata": {},
   "outputs": [
    {
     "name": "stdout",
     "output_type": "stream",
     "text": [
      "The mortality proportion (non-survivor /survivor) by those who smoke is: 5.5\n",
      "\n",
      "\n",
      "The mortality proportion (non-survivor /survivor) by those who don't smoke is: 2.5\n"
     ]
    }
   ],
   "source": [
    "# Data Frame with relative quantities for each situation (Fmaily History YES and NO)\n",
    "df_smoking = df_numeric[[\"Smoking\", \"Mortality\"]]\n",
    "\n",
    "# Quantities\n",
    "#---- Smoking == YES ----\n",
    "#   Mortality == YES and Smoking == YES\n",
    "m_y_smk_y = df_smoking[(df_smoking[\"Mortality\"] == 1) & (df_smoking[\"Smoking\"] == 1)].shape[0]\n",
    "\n",
    "#   Mortality == NO and Smoking == YES\n",
    "m_n_smk_y = df_smoking[(df_smoking[\"Mortality\"] == 0) & (df_smoking[\"Smoking\"] == 1)].shape[0]\n",
    "\n",
    "#---- Smoking == NO ----\n",
    "#   Mortality == YES and Smoking == NO\n",
    "m_y_smk_n = df_smoking[(df_smoking[\"Mortality\"] == 1) & (df_smoking[\"Smoking\"] == 0)].shape[0]\n",
    "\n",
    "#   Mortality == NO and Smoking == NO\n",
    "m_n_smk_n = df_smoking[(df_smoking[\"Mortality\"] == 0) & (df_smoking[\"Smoking\"] == 0)].shape[0]\n",
    "\n",
    "\n",
    "print(\"The mortality proportion (non-survivor /survivor) by those who smoke is: \" + str(m_y_smk_y/m_n_smk_y))\n",
    "print('\\n')\n",
    "print(\"The mortality proportion (non-survivor /survivor) by those who don't smoke is: \" + str(round(m_y_smk_n/m_n_smk_n,1)))\n"
   ]
  },
  {
   "cell_type": "markdown",
   "id": "51007845",
   "metadata": {},
   "source": [
    "Consulting the proportions founded, it's possible to see how the mortality proportion is **higher** on those individuals that are smokers."
   ]
  },
  {
   "cell_type": "markdown",
   "id": "6fc81f1d",
   "metadata": {},
   "source": [
    "### Depression"
   ]
  },
  {
   "cell_type": "markdown",
   "id": "2c831bd7",
   "metadata": {},
   "source": [
    "#### Univariate"
   ]
  },
  {
   "cell_type": "code",
   "execution_count": 26,
   "id": "71d4413f",
   "metadata": {},
   "outputs": [
    {
     "data": {
      "text/plain": [
       "<Figure size 1440x360 with 0 Axes>"
      ]
     },
     "metadata": {},
     "output_type": "display_data"
    },
    {
     "data": {
      "image/png": "[encoded data removed]",
      "text/plain": [
       "<Figure size 832x468 with 1 Axes>"
      ]
     },
     "metadata": {
      "needs_background": "light"
     },
     "output_type": "display_data"
    }
   ],
   "source": [
    "# Configuring plot figure size\n",
    "plt.figure(figsize=(20,5))\n",
    "\n",
    "# Selecting plot data and plotting type\n",
    "graph = sns.catplot(data=df_numeric.replace({1:\"Yes\", 0:\"No\"}), x=\"Depression\", kind=\"count\", height=6.5, aspect=16/9)\n",
    "\n",
    "# Setting plot's title\n",
    "graph.set(title=\"Depression's distribution plot\")\n",
    "\n",
    "# Showing plot on JupyterNotebook\n",
    "plt.show()"
   ]
  },
  {
   "cell_type": "markdown",
   "id": "ffdb7def",
   "metadata": {},
   "source": [
    "The majority of the individuals in this dataset do have Depression."
   ]
  },
  {
   "cell_type": "code",
   "execution_count": 27,
   "id": "43f3576e",
   "metadata": {},
   "outputs": [
    {
     "name": "stdout",
     "output_type": "stream",
     "text": [
      "More precisely, 95.0% of people on this dataset are depressed.\n"
     ]
    }
   ],
   "source": [
    "val_count_depre = df_numeric[\"Depression\"].replace({0:\"No\",1:\"Yes\"}).value_counts()\n",
    "print(\"More precisely, \" + str((val_count_depre[\"Yes\"]/368).round(2) * 100) +\n",
    "      \"% of people on this dataset are depressed.\")"
   ]
  },
  {
   "cell_type": "markdown",
   "id": "77402698",
   "metadata": {},
   "source": [
    "#### Bivariate"
   ]
  },
  {
   "cell_type": "code",
   "execution_count": 28,
   "id": "7a7fbff0",
   "metadata": {},
   "outputs": [
    {
     "data": {
      "text/plain": [
       "<Figure size 1440x360 with 0 Axes>"
      ]
     },
     "metadata": {},
     "output_type": "display_data"
    },
    {
     "data": {
      "image/png": "[encoded data removed]",
      "text/plain": [
       "<Figure size 832x468 with 1 Axes>"
      ]
     },
     "metadata": {
      "needs_background": "light"
     },
     "output_type": "display_data"
    }
   ],
   "source": [
    "# Configuring plot figure size\n",
    "plt.figure(figsize=(20,5))\n",
    "\n",
    "# Selecting plot data and plotting type\n",
    "graph = sns.catplot(data=df_numeric.replace({1:\"Yes\", 0:\"No\"}), x=\"Depression\", kind=\"count\", hue=\"Mortality\", height=6.5, aspect=16/9, legend=False)\n",
    "\n",
    "# Setting plot's title\n",
    "graph.set(title=\"Depression's distribution plot correlating with Mortality\")\n",
    "\n",
    "# Plotting legend\n",
    "plt.legend(labels=[\"Non-survivor\",\"Survivor\"])\n",
    "\n",
    "# Showing plot on JupyterNotebook\n",
    "plt.show()"
   ]
  },
  {
   "cell_type": "markdown",
   "id": "a2d77aa4",
   "metadata": {},
   "source": [
    "Aiming to verify the proportions between the groups \"with Depression\" and \"without Depression\"; I am going to make the proportion of Survivors divided by the total for each group:"
   ]
  },
  {
   "cell_type": "code",
   "execution_count": 29,
   "id": "4a6e7e0e",
   "metadata": {},
   "outputs": [
    {
     "name": "stdout",
     "output_type": "stream",
     "text": [
      "Individuals without Depression Survivors/ Total individuals without Depression: 0.118\n",
      "Individuals with Depression Survivors/ Total individuals with Depression: 0.222\n"
     ]
    }
   ],
   "source": [
    "print(\"Individuals without Depression Survivors/ Total individuals without Depression: \" \n",
    "      + str(round(df_numeric[(df_numeric[\"Depression\"] == 0) & (df_numeric[\"Mortality\"] == 0)].shape[0]\n",
    "        / df_numeric[(df_numeric[\"Depression\"] == 0)].shape[0],3)))\n",
    "\n",
    "print(\"Individuals with Depression Survivors/ Total individuals with Depression: \" \n",
    "      + str(round(df_numeric[(df_numeric[\"Depression\"] == 1) & (df_numeric[\"Mortality\"] == 0)].shape[0]\n",
    "        / df_numeric[(df_numeric[\"Depression\"] == 1)].shape[0],3)))"
   ]
  },
  {
   "cell_type": "markdown",
   "id": "760531eb",
   "metadata": {},
   "source": [
    "It seems that there isn't great diferences between these groups in terms of survival proportion."
   ]
  },
  {
   "cell_type": "markdown",
   "id": "a04e5ad8",
   "metadata": {},
   "source": [
    "### CPK"
   ]
  },
  {
   "cell_type": "markdown",
   "id": "c07b8ba6",
   "metadata": {},
   "source": [
    "#### Univariate"
   ]
  },
  {
   "cell_type": "code",
   "execution_count": 30,
   "id": "3cc120a3",
   "metadata": {},
   "outputs": [
    {
     "data": {
      "text/plain": [
       "<Figure size 1440x360 with 0 Axes>"
      ]
     },
     "metadata": {},
     "output_type": "display_data"
    },
    {
     "data": {
      "image/png": "[encoded data removed]",
      "text/plain": [
       "<Figure size 324x576 with 1 Axes>"
      ]
     },
     "metadata": {
      "needs_background": "light"
     },
     "output_type": "display_data"
    }
   ],
   "source": [
    "# Configuring plot figure size\n",
    "plt.figure(figsize=(20,5))\n",
    "\n",
    "# Selecting plot data and plotting type\n",
    "graph = sns.catplot(data=df_numeric, y=\"CPK\", kind=\"box\",  height=8, aspect=9/16)\n",
    "\n",
    "# Setting a mean line\n",
    "graph.refline(y=df_numeric[\"CPK\"].mean(), color='red', ls='--', lw=1.5, label=\"Mean\")\n",
    "\n",
    "# Setting plot's title and y-axis label\n",
    "graph.set(title=\"CPK's distribution boxplot\", ylabel=\"CPK(U/L)\")\n",
    "\n",
    "# Plotting legend for the lines\n",
    "plt.legend()\n",
    "\n",
    "# Showing plot on JupyterNotebook\n",
    "plt.show()"
   ]
  },
  {
   "cell_type": "markdown",
   "id": "5b09d3b3",
   "metadata": {},
   "source": [
    "Looking through the boxplot, we can see some odd outliers. After a deeper research about this variable and what it means, some informations may be useful for better understanding it:\n",
    "- The CPK (Creatine Phosphokinase) is an enzyme in the body.\n",
    "    - It is found mainly in the heart, brain, and skeletal muscle.\n",
    "- The Reference Range of the CPK Test\n",
    "    - Adult Male: 21 to 232 U/L\n",
    "    - Adult Female: 21 to 215 U/L\n",
    "- High CPK levels may be an indication of damage to CK-rich tissue (like myocardial tissue)\n",
    "<br>\n",
    "<br>\n",
    "The greater concentration of CPK levels from this dataset are between 100U/L - 1000U/L, but as we can see there are some outliers that reaches up to 4289U/L. And those outliers explains the diference between the mean and the median."
   ]
  },
  {
   "cell_type": "markdown",
   "id": "aa08d18e",
   "metadata": {},
   "source": [
    "### Bivariate"
   ]
  },
  {
   "cell_type": "code",
   "execution_count": 31,
   "id": "343a3193",
   "metadata": {},
   "outputs": [
    {
     "data": {
      "image/png": "[encoded data removed]",
      "text/plain": [
       "<Figure size 324x576 with 1 Axes>"
      ]
     },
     "metadata": {
      "needs_background": "light"
     },
     "output_type": "display_data"
    }
   ],
   "source": [
    "# Selecting plot data and plotting type\n",
    "graph = sns.catplot(data=df_numeric.replace({1:\"Yes\", 0:\"No\"}), y=\"CPK\", x=\"Mortality\", kind=\"box\",  height=8, aspect=9/16)\n",
    "\n",
    "# Setting plot's title  and y-axis label\n",
    "graph.set(title=\"Boxplot CPK x Mortality\", ylabel=\"CPK(U/L)\")\n",
    "\n",
    "# Showing plot on JupyterNotebook\n",
    "plt.show()"
   ]
  },
  {
   "cell_type": "markdown",
   "id": "8bcc85af",
   "metadata": {},
   "source": [
    "There is a diference for the groups (non-survivors and survivors), where the CPK levels from Survivors are lower than the Non-survivals ones. But as the outliers tend to increase our range of values, we are going to focus on visualysing the boxplot by recreating it below with a smaller range of y-axis."
   ]
  },
  {
   "cell_type": "code",
   "execution_count": 32,
   "id": "164af3b9",
   "metadata": {},
   "outputs": [
    {
     "data": {
      "image/png": "[encoded data removed]",
      "text/plain": [
       "<Figure size 324x576 with 1 Axes>"
      ]
     },
     "metadata": {
      "needs_background": "light"
     },
     "output_type": "display_data"
    }
   ],
   "source": [
    "# Selecting plot data and plotting type\n",
    "graph = sns.catplot(data=df_numeric.replace({1:\"Yes\", 0:\"No\"}), y=\"CPK\", x=\"Mortality\", kind=\"box\",  height=8, aspect=9/16)\n",
    "\n",
    "# Setting plot's title and y-axis limit and y-axis label\n",
    "graph.set(title=\"Boxplot CPK x Mortality\", ylim=(0,1000), ylabel=\"CPK(U/L)\")\n",
    "\n",
    "# Showing plot on JupyterNotebook\n",
    "plt.show()"
   ]
  },
  {
   "cell_type": "markdown",
   "id": "94d0dbd2",
   "metadata": {},
   "source": [
    "Now it's easier to notice the diference between the group's quartiles. The Non-Survivor's group (Mortality = Yes) has a wider quartile distribution taking higher CPK levels when compared with the Survivor's group.\n",
    "<br>\n",
    "Still looking to explore this relationship, we're going to delete some outliers based on a z-score of 2 (that means that we will deal with the data that are up to 2 standard desviation from the mean)."
   ]
  },
  {
   "cell_type": "code",
   "execution_count": 33,
   "id": "d4784470",
   "metadata": {},
   "outputs": [
    {
     "data": {
      "image/png": "[encoded data removed]",
      "text/plain": [
       "<Figure size 324x576 with 1 Axes>"
      ]
     },
     "metadata": {
      "needs_background": "light"
     },
     "output_type": "display_data"
    }
   ],
   "source": [
    "# New DataFrame with Mortality and CPK columns\n",
    "df_cpk = df_numeric[[\"Mortality\",\"CPK\"]]\n",
    "\n",
    "# Excluding outliers (Z-score > 2)\n",
    "df_cpk = df_cpk[(np.abs(stats.zscore(df_cpk[\"CPK\"])) < 2)]\n",
    "\n",
    "# Selecting plot data and plotting type\n",
    "graph = sns.catplot(data=df_cpk.replace({1:\"Yes\",0:\"No\"}), y=\"CPK\", x=\"Mortality\", kind=\"box\",  height=8, aspect=9/16)\n",
    "\n",
    "# Setting plot's title and y-axis label\n",
    "graph.set(title=\"Boxplot CPK x Mortality\", ylabel=\"CPK(U/L)\")\n",
    "\n",
    "# Showing plot on JupyterNotebook\n",
    "plt.show()"
   ]
  },
  {
   "cell_type": "markdown",
   "id": "781a4045",
   "metadata": {},
   "source": [
    "It looks like the diference between quartiles was reduced after we exclude the outliers (2 standard desviations distance)."
   ]
  },
  {
   "cell_type": "markdown",
   "id": "8997ca1b",
   "metadata": {},
   "source": [
    "### Hemoglobin"
   ]
  },
  {
   "cell_type": "markdown",
   "id": "1b9b9f42",
   "metadata": {},
   "source": [
    "### Univariate"
   ]
  },
  {
   "cell_type": "code",
   "execution_count": 34,
   "id": "97b078c4",
   "metadata": {},
   "outputs": [
    {
     "data": {
      "text/plain": [
       "<Figure size 1440x360 with 0 Axes>"
      ]
     },
     "metadata": {},
     "output_type": "display_data"
    },
    {
     "data": {
      "image/png": "[encoded data removed]",
      "text/plain": [
       "<Figure size 324x576 with 1 Axes>"
      ]
     },
     "metadata": {
      "needs_background": "light"
     },
     "output_type": "display_data"
    }
   ],
   "source": [
    "# Configuring plot figure size\n",
    "plt.figure(figsize=(20,5))\n",
    "\n",
    "# Selecting plot data and plotting type\n",
    "graph = sns.catplot(data=df_numeric, y=\"Hemoglobin\", kind=\"box\",  height=8, aspect=9/16)\n",
    "\n",
    "# Setting a mean line\n",
    "graph.refline(y=df_numeric[\"Hemoglobin\"].mean(), color='red', ls='--', lw=1.5, label=\"Mean\")\n",
    "\n",
    "# Setting plot's title and y-axis label\n",
    "graph.set(title=\"Hemoglobin's distribution boxplot\", ylabel=\"Hemoglobin(g/dL)\")\n",
    "\n",
    "# Plotting legend for the lines\n",
    "plt.legend()\n",
    "\n",
    "# Showing plot on JupyterNotebook\n",
    "plt.show()"
   ]
  },
  {
   "cell_type": "markdown",
   "id": "a0edcb9d",
   "metadata": {},
   "source": [
    "Apparently there aren't any outliers on this plot, the Interquartile range is between 12g/dL and 16g/dL, while the 0th percentile and 100th percentile stays around 2g/dL up and 2g/dL down from the Q1 and Q3 respectly.\n",
    "<br><br>\n",
    "Looking for more explanations for this variable, I found what is considered a healthy range for the Hemoglobin Levels:\n",
    "- For men, 13.2 to 16.6 grams per deciliter.\n",
    "- For women, 11.6 to 15 grams per deciliter.\n",
    "<br>\n",
    "Also, I found some information about the diferences from this range:\n",
    "- Lower levels:\n",
    "    - Iron deficiency\n",
    "    - Vitamin B-12 deficiency\n",
    "    - Bleeding\n",
    "    - Kidney disease\n",
    "    - Liver disease\n",
    "- Higher levels:\n",
    "    - Lung disease\n",
    "    - Dehydration\n",
    "    - Living at a high altitude\n",
    "    - Heavy smoking\n",
    "    - Burns\n",
    "    - Extreme physical exercise"
   ]
  },
  {
   "cell_type": "markdown",
   "id": "fecb8aa0",
   "metadata": {},
   "source": [
    "#### Bivariate"
   ]
  },
  {
   "cell_type": "code",
   "execution_count": 35,
   "id": "e222f4f3",
   "metadata": {},
   "outputs": [
    {
     "data": {
      "image/png": "[encoded data removed]",
      "text/plain": [
       "<Figure size 324x576 with 1 Axes>"
      ]
     },
     "metadata": {
      "needs_background": "light"
     },
     "output_type": "display_data"
    }
   ],
   "source": [
    "# Selecting plot data and plotting type\n",
    "graph = sns.catplot(data=df_numeric.replace({1:\"Yes\",0:\"No\"}), y=\"Hemoglobin\", x=\"Mortality\", kind=\"box\",  height=8, aspect=9/16)\n",
    "\n",
    "# Setting the healthy's range lines\n",
    "graph.refline(y=12.4, color='green', ls='--', lw=1.5, label=\"'Healthy min range'\")\n",
    "graph.refline(y=15.8, color='green', ls='--', lw=1.5, label=\"'Healthy max range'\")\n",
    "\n",
    "# Setting plot's title and y-axis label\n",
    "graph.set(title=\"Boxplot Hemoglobin x Mortality\", ylabel=\"Hemoglobin(g/dL)\")\n",
    "\n",
    "# Plotting legend for the lines\n",
    "plt.legend()\n",
    "\n",
    "# Showing plot on JupyterNotebook\n",
    "plt.show()"
   ]
  },
  {
   "cell_type": "markdown",
   "id": "7899df15",
   "metadata": {},
   "source": [
    "The main diference is showed by the diference from the healthy ranges, in wich the Non'survivors stays with the Interquartile range inside this range. The median are almost the same; the Survivor's group has a wider range between Q1 and Q3, while the Non-survivor's group reaches lower Hemoglobin levels."
   ]
  },
  {
   "cell_type": "markdown",
   "id": "2cd45a62",
   "metadata": {},
   "source": [
    "### Resting Blood Pression "
   ]
  },
  {
   "cell_type": "markdown",
   "id": "09f1fbf5",
   "metadata": {},
   "source": [
    "#### Univariate"
   ]
  },
  {
   "cell_type": "code",
   "execution_count": 36,
   "id": "d613aa10",
   "metadata": {},
   "outputs": [
    {
     "data": {
      "text/plain": [
       "<Figure size 1440x360 with 0 Axes>"
      ]
     },
     "metadata": {},
     "output_type": "display_data"
    },
    {
     "data": {
      "image/png": "[encoded data removed]",
      "text/plain": [
       "<Figure size 324x576 with 1 Axes>"
      ]
     },
     "metadata": {
      "needs_background": "light"
     },
     "output_type": "display_data"
    }
   ],
   "source": [
    "# Configuring plot figure size\n",
    "plt.figure(figsize=(20,5))\n",
    "\n",
    "# Selecting plot data and plotting type\n",
    "graph = sns.catplot(data=df_numeric, y=\"BloodPressRest\", kind=\"box\",  height=8, aspect=9/16)\n",
    "\n",
    "# Setting a mean line\n",
    "graph.refline(y=df_numeric[\"BloodPressRest\"].mean(), color='red', ls='--', lw=1.5, label=\"Mean\")\n",
    "\n",
    "# Setting plot's title and y-axis label\n",
    "graph.set(title=\"Resting Blood Pressure's distribution boxplot\", ylabel=\"Systolic Blood Pressure(mmHg)\")\n",
    "\n",
    "# Plotting legend for the lines\n",
    "plt.legend()\n",
    "\n",
    "# Showing plot on JupyterNotebook\n",
    "plt.show()"
   ]
  },
  {
   "cell_type": "markdown",
   "id": "29060864",
   "metadata": {},
   "source": [
    "After some researching about this variable, I've discovered that it indicates the systolic blood pressure, and there are some relevant informations about it's levels:\n",
    "- Low:\n",
    "    - 90mmHg\n",
    "- Normal:\n",
    "    - 120mmHg\n",
    "- Elevated:\n",
    "    - 120-129mmHg\n",
    "- Hypertension Stage 1:\n",
    "    - 130-139mmHg\n",
    "- Hypertension Stage 2:\n",
    "    - 140mmHg"
   ]
  },
  {
   "cell_type": "markdown",
   "id": "7a348cee",
   "metadata": {},
   "source": [
    "Viewing the boxplot it's clear the tendency to high levels of blood pressure in the individuals from this dataset."
   ]
  },
  {
   "cell_type": "code",
   "execution_count": 37,
   "id": "27ce3b2d",
   "metadata": {},
   "outputs": [
    {
     "name": "stdout",
     "output_type": "stream",
     "text": [
      "There should be around 169 hypertense individuals (>130mmHg).\n"
     ]
    }
   ],
   "source": [
    "print(\"There should be around \" + str(df_numeric[\"BloodPressRest\"][df_numeric[\"BloodPressRest\"]>130].size) +\n",
    "      \" hypertense individuals (>130mmHg).\")"
   ]
  },
  {
   "cell_type": "markdown",
   "id": "09b429e6",
   "metadata": {},
   "source": [
    "#### Bivariate"
   ]
  },
  {
   "cell_type": "code",
   "execution_count": 38,
   "id": "2932d463",
   "metadata": {
    "scrolled": false
   },
   "outputs": [
    {
     "data": {
      "image/png": "[encoded data removed]",
      "text/plain": [
       "<Figure size 324x576 with 1 Axes>"
      ]
     },
     "metadata": {
      "needs_background": "light"
     },
     "output_type": "display_data"
    }
   ],
   "source": [
    "# Selecting plot data and plotting type\n",
    "graph = sns.catplot(data=df_numeric.replace({1:\"Yes\",0:\"No\"}), y=\"BloodPressRest\", x=\"Mortality\", kind=\"box\",  height=8, aspect=9/16)\n",
    "\n",
    "# Setting the healthy's range lines\n",
    "graph.refline(y=90, color='green', ls='--', lw=1.5, label=\"'Healthy min range'\")\n",
    "graph.refline(y=120, color='green', ls='--', lw=1.5, label=\"'Healthy max range'\")\n",
    "\n",
    "# Setting plot's title and y-axis label\n",
    "graph.set(title=\"Boxplot BloodPressRest x Mortality\", ylabel=\"Systolic Blood Pressure(mmHg)\")\n",
    "\n",
    "# Plotting legend for the lines\n",
    "plt.legend()\n",
    "\n",
    "# Showing plot on JupyterNotebook\n",
    "plt.show()"
   ]
  },
  {
   "cell_type": "markdown",
   "id": "821beba7",
   "metadata": {},
   "source": [
    "There aren't great diferences between Survivors and Non-survivors when looking to the Interquartile range and the median, but it's possible to see some outliers on the Non-survivors group."
   ]
  },
  {
   "cell_type": "markdown",
   "id": "f2d22e04",
   "metadata": {},
   "source": [
    "### Cholestorol"
   ]
  },
  {
   "cell_type": "markdown",
   "id": "674e15d9",
   "metadata": {},
   "source": [
    "#### Univariate"
   ]
  },
  {
   "cell_type": "code",
   "execution_count": 39,
   "id": "d1e2a004",
   "metadata": {},
   "outputs": [
    {
     "data": {
      "text/plain": [
       "<Figure size 1440x360 with 0 Axes>"
      ]
     },
     "metadata": {},
     "output_type": "display_data"
    },
    {
     "data": {
      "image/png": "[encoded data removed]",
      "text/plain": [
       "<Figure size 324x576 with 1 Axes>"
      ]
     },
     "metadata": {
      "needs_background": "light"
     },
     "output_type": "display_data"
    }
   ],
   "source": [
    "# Configuring plot figure size\n",
    "plt.figure(figsize=(20,5))\n",
    "\n",
    "# Selecting plot data and plotting type\n",
    "graph = sns.catplot(data=df_numeric, y=\"cholesterol\", kind=\"box\",  height=8, aspect=9/16)\n",
    "\n",
    "# Setting a mean line\n",
    "graph.refline(y=df_numeric[\"cholesterol\"].mean(), color='red', ls='--', lw=1.5, label=\"Mean\")\n",
    "\n",
    "# Setting plot's title and y-axis label\n",
    "graph.set(title=\"Cholesterol's distribution boxplot\", ylabel=\"Cholesterol(mg/dL)\")\n",
    "\n",
    "# Plotting legend for the lines\n",
    "plt.legend()\n",
    "\n",
    "# Showing plot on JupyterNotebook\n",
    "plt.show()"
   ]
  },
  {
   "cell_type": "markdown",
   "id": "260026e6",
   "metadata": {},
   "source": [
    "During some research about this variable, I presumed that it indicates the **total cholesterol level**, and it also has a healthy range level: 125 - 200mg/dL.\n",
    "<br>\n",
    "For this current total's distribution, it seems that most individuals have high cholesterol levels, with the mean and the median being almost the same."
   ]
  },
  {
   "cell_type": "markdown",
   "id": "2e0a5e56",
   "metadata": {},
   "source": [
    "#### Bivariate"
   ]
  },
  {
   "cell_type": "code",
   "execution_count": 40,
   "id": "dac12d21",
   "metadata": {
    "scrolled": false
   },
   "outputs": [
    {
     "data": {
      "image/png": "[encoded data removed]",
      "text/plain": [
       "<Figure size 324x576 with 1 Axes>"
      ]
     },
     "metadata": {
      "needs_background": "light"
     },
     "output_type": "display_data"
    }
   ],
   "source": [
    "# Selecting plot data and plotting type\n",
    "graph = sns.catplot(data=df_numeric.replace({1:\"Yes\",0:\"No\"}), y=\"cholesterol\", x=\"Mortality\", kind=\"box\",  height=8, aspect=9/16)\n",
    "\n",
    "# Setting the healthy's range lines\n",
    "graph.refline(y=125, color='green', ls='--', lw=1.5, label=\"'Healthy min range'\")\n",
    "graph.refline(y=200, color='green', ls='--', lw=1.5, label=\"'Healthy max range'\")\n",
    "\n",
    "# Setting plot's title and y-axis label\n",
    "graph.set(title=\"Boxplot Cholesterol x Mortality\", ylabel=\"Cholesterol(mg/dL)\")\n",
    "\n",
    "# Plotting legend for the lines\n",
    "plt.legend()\n",
    "\n",
    "# Showing plot on JupyterNotebook\n",
    "plt.show()"
   ]
  },
  {
   "cell_type": "markdown",
   "id": "9a2ef9f5",
   "metadata": {},
   "source": [
    "Both groups show a signifcant number of indiviuals with high cholesterol levels, as seen on the Cholesterol's distribution boxplot."
   ]
  },
  {
   "cell_type": "markdown",
   "id": "c0798477",
   "metadata": {},
   "source": [
    "### Max Heart Rate"
   ]
  },
  {
   "cell_type": "markdown",
   "id": "543b7df3",
   "metadata": {},
   "source": [
    "#### Univariate"
   ]
  },
  {
   "cell_type": "code",
   "execution_count": 41,
   "id": "bf08568c",
   "metadata": {},
   "outputs": [
    {
     "data": {
      "text/plain": [
       "<Figure size 1440x360 with 0 Axes>"
      ]
     },
     "metadata": {},
     "output_type": "display_data"
    },
    {
     "data": {
      "image/png": "[encoded data removed]",
      "text/plain": [
       "<Figure size 324x576 with 1 Axes>"
      ]
     },
     "metadata": {
      "needs_background": "light"
     },
     "output_type": "display_data"
    }
   ],
   "source": [
    "# Configuring plot figure size\n",
    "plt.figure(figsize=(20,5))\n",
    "\n",
    "# Selecting plot data and plotting type\n",
    "graph = sns.catplot(data=df_numeric, y=\"MaxHeartRate\", kind=\"box\",  height=8, aspect=9/16)\n",
    "\n",
    "# Setting a mean line\n",
    "graph.refline(y=df_numeric[\"MaxHeartRate\"].mean(), color='red', ls='--', lw=1.5, label=\"Mean\")\n",
    "\n",
    "# Setting plot's title and y-axis label\n",
    "graph.set(title=\"Maximum Heart Rate's distribution boxplot\", ylabel=\"Maximum Heart Rate(bpm)\")\n",
    "\n",
    "# Plotting legend for the lines\n",
    "plt.legend()\n",
    "\n",
    "# Setting y axis starting at 0\n",
    "plt.ylim(0)\n",
    "\n",
    "# Showing plot on JupyterNotebook\n",
    "plt.show()"
   ]
  },
  {
   "cell_type": "markdown",
   "id": "0a237936",
   "metadata": {},
   "source": [
    "Instead of directly analysing this plot, I've found that for best understand this variable (Heart Rate) is necessary to look for the correspondent individual's age. So, I am going to calculate the percentage of maximum heart rate based on each individual's age.\n",
    "<br>\n",
    "For this calculation I will make a suggested calculus that involves subtracting the individual's age from 220 for the supposed maxium heart rate limit, and getting the percentage from this limit:\n",
    "<br><br>\n",
    "Percentage = MaxHearRate Variable/(220 - Individual's age)"
   ]
  },
  {
   "cell_type": "code",
   "execution_count": 42,
   "id": "089867c8",
   "metadata": {},
   "outputs": [
    {
     "data": {
      "text/html": [
       "<div>\n",
       "<style scoped>\n",
       "    .dataframe tbody tr th:only-of-type {\n",
       "        vertical-align: middle;\n",
       "    }\n",
       "\n",
       "    .dataframe tbody tr th {\n",
       "        vertical-align: top;\n",
       "    }\n",
       "\n",
       "    .dataframe thead th {\n",
       "        text-align: right;\n",
       "    }\n",
       "</style>\n",
       "<table border=\"1\" class=\"dataframe\">\n",
       "  <thead>\n",
       "    <tr style=\"text-align: right;\">\n",
       "      <th></th>\n",
       "      <th>Mortality</th>\n",
       "      <th>MaxHeartRate</th>\n",
       "      <th>Age</th>\n",
       "      <th>Heart_Percentage</th>\n",
       "    </tr>\n",
       "  </thead>\n",
       "  <tbody>\n",
       "    <tr>\n",
       "      <th>0</th>\n",
       "      <td>Yes</td>\n",
       "      <td>136</td>\n",
       "      <td>45</td>\n",
       "      <td>78.0</td>\n",
       "    </tr>\n",
       "    <tr>\n",
       "      <th>1</th>\n",
       "      <td>Yes</td>\n",
       "      <td>142</td>\n",
       "      <td>51</td>\n",
       "      <td>84.0</td>\n",
       "    </tr>\n",
       "    <tr>\n",
       "      <th>2</th>\n",
       "      <td>Yes</td>\n",
       "      <td>117</td>\n",
       "      <td>55</td>\n",
       "      <td>71.0</td>\n",
       "    </tr>\n",
       "    <tr>\n",
       "      <th>3</th>\n",
       "      <td>Yes</td>\n",
       "      <td>130</td>\n",
       "      <td>55</td>\n",
       "      <td>79.0</td>\n",
       "    </tr>\n",
       "    <tr>\n",
       "      <th>4</th>\n",
       "      <td>Yes</td>\n",
       "      <td>133</td>\n",
       "      <td>56</td>\n",
       "      <td>81.0</td>\n",
       "    </tr>\n",
       "  </tbody>\n",
       "</table>\n",
       "</div>"
      ],
      "text/plain": [
       "  Mortality  MaxHeartRate  Age  Heart_Percentage\n",
       "0       Yes           136   45              78.0\n",
       "1       Yes           142   51              84.0\n",
       "2       Yes           117   55              71.0\n",
       "3       Yes           130   55              79.0\n",
       "4       Yes           133   56              81.0"
      ]
     },
     "execution_count": 42,
     "metadata": {},
     "output_type": "execute_result"
    }
   ],
   "source": [
    "# Creating a New Dataframe with Mortality and MaxHeatRate columns\n",
    "df_heart = df_numeric[[\"Mortality\",\"MaxHeartRate\",\"Age\"]].copy()\n",
    "\n",
    "# Creating a new column with the calculation mentioned\n",
    "df_heart[\"Heart_Percentage\"] = round(df_heart[\"MaxHeartRate\"]/(220 - df_heart[\"Age\"]),2) * 100\n",
    "\n",
    "# Replacing Mortality values from 0 and 1, to No and Yes\n",
    "df_heart[\"Mortality\"].replace({1:\"Yes\",0:\"No\"}, inplace=True)\n",
    "\n",
    "# Printing first rows from the new DataSet\n",
    "df_heart.head()"
   ]
  },
  {
   "cell_type": "code",
   "execution_count": 43,
   "id": "f926c2c7",
   "metadata": {},
   "outputs": [
    {
     "data": {
      "text/plain": [
       "<Figure size 1440x360 with 0 Axes>"
      ]
     },
     "metadata": {},
     "output_type": "display_data"
    },
    {
     "data": {
      "image/png": "[encoded data removed]",
      "text/plain": [
       "<Figure size 324x576 with 1 Axes>"
      ]
     },
     "metadata": {
      "needs_background": "light"
     },
     "output_type": "display_data"
    }
   ],
   "source": [
    "# Configuring plot figure size\n",
    "plt.figure(figsize=(20,5))\n",
    "\n",
    "# Selecting plot data and plotting type\n",
    "graph = sns.catplot(data=df_heart, y=\"Heart_Percentage\", kind=\"box\",  height=8, aspect=9/16)\n",
    "\n",
    "# Setting a mean line\n",
    "graph.refline(y=df_heart[\"Heart_Percentage\"].mean(), color='red', ls='--', lw=1.5, label=\"Mean\")\n",
    "\n",
    "# Setting the estimated limit (100%)\n",
    "graph.refline(y=100, color='purple', ls='--', lw=1.5, label=\"Limit\")\n",
    "\n",
    "# Setting plot's title and y-axis label\n",
    "graph.set(title=\"Heart Percentage's distribution boxplot\", ylabel=\"Max Heart Percentage(%)\")\n",
    "\n",
    "# Plotting legend for the lines\n",
    "plt.legend()\n",
    "\n",
    "# Showing plot on JupyterNotebook\n",
    "plt.show()"
   ]
  },
  {
   "cell_type": "markdown",
   "id": "3a01e71d",
   "metadata": {},
   "source": [
    "Now it's easier to see how this population takes place in terms of Heart Rate levels. It's possible to see that there aren't outliers anymore, and there some indivuals that pass through the limits; wich means that probably their hearts are needing to beat much harder than it supposed to."
   ]
  },
  {
   "cell_type": "code",
   "execution_count": 44,
   "id": "b3487e8b",
   "metadata": {},
   "outputs": [
    {
     "name": "stdout",
     "output_type": "stream",
     "text": [
      "There are 65 individuals that reaches, or exceed, the 100% limit.\n"
     ]
    }
   ],
   "source": [
    "print(\"There are \" + str(df_heart[\"Heart_Percentage\"][df_heart[\"Heart_Percentage\"]>100].size)\n",
    "     + \" individuals that reaches, or exceed, the 100% limit.\")"
   ]
  },
  {
   "cell_type": "code",
   "execution_count": 45,
   "id": "4aa11a64",
   "metadata": {},
   "outputs": [
    {
     "data": {
      "text/plain": [
       "Yes    58\n",
       "No      7\n",
       "Name: Mortality, dtype: int64"
      ]
     },
     "execution_count": 45,
     "metadata": {},
     "output_type": "execute_result"
    }
   ],
   "source": [
    "df_heart_100 =df_heart[df_heart[\"Heart_Percentage\"]>100]\n",
    "df_heart_100[\"Mortality\"].value_counts()"
   ]
  },
  {
   "cell_type": "markdown",
   "id": "0e33550a",
   "metadata": {},
   "source": [
    "From these 65 individuals, 58 hasn't survived from the heart failure."
   ]
  },
  {
   "cell_type": "markdown",
   "id": "0b3b0907",
   "metadata": {},
   "source": [
    "#### Bivariate"
   ]
  },
  {
   "cell_type": "code",
   "execution_count": 46,
   "id": "1dcd436a",
   "metadata": {
    "scrolled": false
   },
   "outputs": [
    {
     "data": {
      "image/png": "[encoded data removed]",
      "text/plain": [
       "<Figure size 324x576 with 1 Axes>"
      ]
     },
     "metadata": {
      "needs_background": "light"
     },
     "output_type": "display_data"
    }
   ],
   "source": [
    "# Selecting plot data and plotting type\n",
    "graph = sns.catplot(data=df_heart, y=\"Heart_Percentage\", x=\"Mortality\", kind=\"box\",  height=8, aspect=9/16)\n",
    "\n",
    "# Setting the estimated limit (100%)\n",
    "graph.refline(y=100, color='purple', ls='--', lw=1.5, label=\"Limit\")\n",
    "\n",
    "# Setting plot's title and y-axis label\n",
    "\n",
    "graph.set(title=\"Boxplot Heart Percentage x Mortality\", ylabel=\"Max Heart Percentage(%)\")\n",
    "\n",
    "# Plotting legend for the lines\n",
    "plt.legend()\n",
    "\n",
    "# Showing plot on JupyterNotebook\n",
    "plt.show()"
   ]
  },
  {
   "cell_type": "markdown",
   "id": "22748c5c",
   "metadata": {},
   "source": [
    "The main diference between the groups is that the Survivor's has a wider Quartile's range, while Non-survivor's has a smaller one and seems to have more individuals beneath the 100% limit line."
   ]
  },
  {
   "cell_type": "markdown",
   "id": "b54c466f",
   "metadata": {},
   "source": [
    "### Hyperlipidemia"
   ]
  },
  {
   "cell_type": "markdown",
   "id": "03d49b87",
   "metadata": {},
   "source": [
    "#### Univariate"
   ]
  },
  {
   "cell_type": "code",
   "execution_count": 47,
   "id": "5f6d643c",
   "metadata": {},
   "outputs": [
    {
     "data": {
      "text/plain": [
       "<Figure size 1440x360 with 0 Axes>"
      ]
     },
     "metadata": {},
     "output_type": "display_data"
    },
    {
     "data": {
      "image/png": "[encoded data removed]",
      "text/plain": [
       "<Figure size 832x468 with 1 Axes>"
      ]
     },
     "metadata": {
      "needs_background": "light"
     },
     "output_type": "display_data"
    }
   ],
   "source": [
    "# Configuring plot figure size\n",
    "plt.figure(figsize=(20,5))\n",
    "\n",
    "# Selecting plot data and plotting type\n",
    "graph = sns.catplot(data=df_numeric.replace({1:\"Yes\", 0:\"No\"}), x=\"Hyperlipi\", kind=\"count\", height=6.5, aspect=16/9)\n",
    "\n",
    "# Setting plot's title\n",
    "graph.set(title=\"Hyperlipidemia's distribution plot\")\n",
    "\n",
    "# Showing plot on JupyterNotebook\n",
    "plt.show()"
   ]
  },
  {
   "cell_type": "markdown",
   "id": "ea05dfd9",
   "metadata": {},
   "source": [
    "The majority of the individuals in this dataset do have Hyperlipidemia. Since Hyperlipidemia is 'an excess of lipids or fats in your blood', this confirms the previuos Cholesterol's insights, that shows a great number of individuals with high cholesterol levels."
   ]
  },
  {
   "cell_type": "code",
   "execution_count": 48,
   "id": "8e931575",
   "metadata": {},
   "outputs": [
    {
     "name": "stdout",
     "output_type": "stream",
     "text": [
      "More precisely, 93.0% of the people in this dataset are hyperlipidemic.\n"
     ]
    }
   ],
   "source": [
    "val_count_hyperlip = df_numeric[\"Hyperlipi\"].replace({0:\"No\",1:\"Yes\"}).value_counts()\n",
    "print(\"More precisely, \" + \n",
    "      str((val_count_hyperlip[\"Yes\"]/368).round(2) * 100) +\n",
    "      \"% of the people in this dataset are hyperlipidemic.\")"
   ]
  },
  {
   "cell_type": "markdown",
   "id": "d0ce597b",
   "metadata": {},
   "source": [
    "#### Bivariate"
   ]
  },
  {
   "cell_type": "code",
   "execution_count": 49,
   "id": "94bd751d",
   "metadata": {
    "scrolled": false
   },
   "outputs": [
    {
     "data": {
      "text/plain": [
       "<Figure size 1440x360 with 0 Axes>"
      ]
     },
     "metadata": {},
     "output_type": "display_data"
    },
    {
     "data": {
      "image/png": "[encoded data removed]",
      "text/plain": [
       "<Figure size 832x468 with 1 Axes>"
      ]
     },
     "metadata": {
      "needs_background": "light"
     },
     "output_type": "display_data"
    }
   ],
   "source": [
    "# Configuring plot figure size\n",
    "plt.figure(figsize=(20,5))\n",
    "\n",
    "# Selecting plot data and plotting type\n",
    "graph = sns.catplot(data=df_numeric.replace({1:\"Yes\", 0:\"No\"}), x=\"Hyperlipi\", kind=\"count\", hue=\"Mortality\", height=6.5, aspect=16/9, legend=False)\n",
    "\n",
    "# Setting plot's title\n",
    "graph.set(title=\"Hyperlipidemia' distribution plot correlating with Mortality\")\n",
    "\n",
    "# Plotting legend\n",
    "plt.legend(labels=[\"Non-survivor\",\"Survivor\"])\n",
    "\n",
    "# Showing plot on JupyterNotebook\n",
    "plt.show()"
   ]
  },
  {
   "cell_type": "markdown",
   "id": "c6c415c3",
   "metadata": {},
   "source": [
    "It's not so clear if hyperlipidemic individuals have different survival's rate, when compared with non-hyperlipidemic individuals. Aiming to have more accuracy over this question, I am going to analyze the numbers from this plot."
   ]
  },
  {
   "cell_type": "code",
   "execution_count": 50,
   "id": "e21a1310",
   "metadata": {},
   "outputs": [
    {
     "name": "stdout",
     "output_type": "stream",
     "text": [
      "The proportion of survivors/ non-survivors on hyperlipidemic individuals is: 0.282\n",
      "The proportion of survivors/ non-survivors on non-hyperlipidemic individuals is: 0.227\n"
     ]
    }
   ],
   "source": [
    "val_count_hyperlip = df_numeric[[\"Hyperlipi\",\"Mortality\"]].replace({0:\"No\",1:\"Yes\"}).value_counts()\n",
    "val_count_hyperlip\n",
    "\n",
    "# Hyperlipidemic\n",
    "print(\"The proportion of survivors/ non-survivors on hyperlipidemic individuals is: \" +\n",
    "      str((val_count_hyperlip[\"Yes\"][\"No\"]/val_count_hyperlip[\"Yes\"][\"Yes\"]).round(3)))\n",
    "\n",
    "# Non-Hyperlipidemic\n",
    "print(\"The proportion of survivors/ non-survivors on non-hyperlipidemic individuals is: \" +\n",
    "      str((val_count_hyperlip[\"No\"][\"No\"]/val_count_hyperlip[\"No\"][\"Yes\"]).round(3)))"
   ]
  },
  {
   "cell_type": "markdown",
   "id": "7d2cc0f9",
   "metadata": {},
   "source": [
    "### Platelet Count"
   ]
  },
  {
   "cell_type": "markdown",
   "id": "43952206",
   "metadata": {},
   "source": [
    "#### Univariate"
   ]
  },
  {
   "cell_type": "code",
   "execution_count": 51,
   "id": "8768e406",
   "metadata": {},
   "outputs": [
    {
     "data": {
      "text/plain": [
       "<Figure size 1440x360 with 0 Axes>"
      ]
     },
     "metadata": {},
     "output_type": "display_data"
    },
    {
     "data": {
      "image/png": "[encoded data removed]",
      "text/plain": [
       "<Figure size 324x576 with 1 Axes>"
      ]
     },
     "metadata": {
      "needs_background": "light"
     },
     "output_type": "display_data"
    }
   ],
   "source": [
    "# Configuring plot figure size\n",
    "plt.figure(figsize=(20,5))\n",
    "\n",
    "# Selecting plot data and plotting type\n",
    "graph = sns.catplot(data=df_numeric, y=\"PlateletCount\", kind=\"box\",  height=8, aspect=9/16)\n",
    "\n",
    "# Setting a mean line\n",
    "graph.refline(y=df_numeric[\"PlateletCount\"].mean(), color='red', ls='--', lw=1.5, label=\"Mean\")\n",
    "\n",
    "# Formatting y-axis tick labels\n",
    "ticks = graph.axes[0][0].get_yticks()\n",
    "ylabels = ['{:,.0f}'.format(y) + '/μL' for y in ticks]\n",
    "graph.set_yticklabels(ylabels)\n",
    "\n",
    "# Setting plot's title and y-axis limit\n",
    "graph.set(title=\"PlateletCount's distribution boxplot\", ylim=(0))\n",
    "\n",
    "# Plotting legend for the lines\n",
    "plt.legend()\n",
    "\n",
    "# Showing plot on JupyterNotebook\n",
    "plt.show()"
   ]
  },
  {
   "cell_type": "markdown",
   "id": "268f3a11",
   "metadata": {},
   "source": [
    "It seems that the majority of individuals have the Platelet Counting ranging 150,000 to 400,000 per microliter. Also it's possible to see some outliers, one with very low levels; and some with more than 400,000/μL.\n",
    "<br>\n",
    "After some research, I've found that the healthy levels of Platet Count should range 150,000 to 450,000 platelets per microliter \n",
    "of blood. Having more than 450,000 platelets is a condition called thrombocytosis; having less than 150,000 is known as thrombocytopenia. So, I am going to reproduce the previous plot adding this healthy range for a better understanding."
   ]
  },
  {
   "cell_type": "code",
   "execution_count": 52,
   "id": "0f9bc2d4",
   "metadata": {},
   "outputs": [
    {
     "data": {
      "text/plain": [
       "<Figure size 1440x360 with 0 Axes>"
      ]
     },
     "metadata": {},
     "output_type": "display_data"
    },
    {
     "data": {
      "image/png": "[encoded data removed]",
      "text/plain": [
       "<Figure size 324x576 with 1 Axes>"
      ]
     },
     "metadata": {
      "needs_background": "light"
     },
     "output_type": "display_data"
    }
   ],
   "source": [
    "# Configuring plot figure size\n",
    "plt.figure(figsize=(20,5))\n",
    "\n",
    "# Setting the healthy range\n",
    "graph.refline(y=150000, color='green', ls='--', lw=1.5, label=\"Healthy limit\")\n",
    "graph.refline(y=450000, color='green', ls='--', lw=1.5, label=\"Healthy limit\")\n",
    "\n",
    "# Formatting y-axis tick labels\n",
    "ticks = graph.axes[0][0].get_yticks()\n",
    "ylabels = ['{:,.0f}'.format(y) + '/μL' for y in ticks]\n",
    "graph.set_yticklabels(ylabels)\n",
    "\n",
    "# Setting plot's title and y-axis limit\n",
    "graph.set(title=\"PlateletCount's distribution boxplot\", ylim=(0))\n",
    "\n",
    "# Plotting legend for the lines\n",
    "plt.legend()\n",
    "\n",
    "# Showing plot on JupyterNotebook\n",
    "plt.show()"
   ]
  },
  {
   "cell_type": "markdown",
   "id": "29eb6618",
   "metadata": {},
   "source": [
    "Now considering the healthy range (green lines), it's possible to view how these individuals seems to be, at least the majority, inside the healthy limits."
   ]
  },
  {
   "cell_type": "markdown",
   "id": "639a700c",
   "metadata": {},
   "source": [
    "#### Bivariate"
   ]
  },
  {
   "cell_type": "code",
   "execution_count": 53,
   "id": "e9e747d3",
   "metadata": {
    "scrolled": false
   },
   "outputs": [
    {
     "data": {
      "image/png": "[encoded data removed]",
      "text/plain": [
       "<Figure size 324x576 with 1 Axes>"
      ]
     },
     "metadata": {
      "needs_background": "light"
     },
     "output_type": "display_data"
    }
   ],
   "source": [
    "# Selecting plot data and plotting type\n",
    "graph = sns.catplot(data=df_numeric.replace({1:\"Yes\",0:\"No\"}), y=\"PlateletCount\", x=\"Mortality\", kind=\"box\",  height=8, aspect=9/16)\n",
    "\n",
    "# Setting the healthy's range lines\n",
    "graph.refline(y=150000, color='green', ls='--', lw=1.5, label=\"Healthy limit\")\n",
    "graph.refline(y=450000, color='green', ls='--', lw=1.5, label=\"Healthy limit\")\n",
    "\n",
    "# Formatting y-axis tick labels\n",
    "ticks = graph.axes[0][0].get_yticks()\n",
    "ylabels = ['{:,.0f}'.format(y) + '/μL' for y in ticks]\n",
    "graph.set_yticklabels(ylabels)\n",
    "\n",
    "# Setting plot's title and y-axis limit\n",
    "graph.set(title=\"PlateletCount's distribution boxplot\", ylim=(0))\n",
    "\n",
    "# Setting plot's title\n",
    "graph.set(title=\"Boxplot PlateletCount x Mortality\")\n",
    "\n",
    "# Plotting legend for the lines\n",
    "plt.legend()\n",
    "\n",
    "# Showing plot on JupyterNotebook\n",
    "plt.show()"
   ]
  },
  {
   "cell_type": "markdown",
   "id": "06a4d852",
   "metadata": {},
   "source": [
    "When analyzing both groups (survivors and non-survivors) it doesn't seem to have great differences. The survivors (Mortality = 'No') have a little tighter Platelet Count range, and less outliers comparing with non-survivors."
   ]
  },
  {
   "cell_type": "markdown",
   "id": "91e46249",
   "metadata": {},
   "source": [
    "## Analysing multiple relationships between variables (columns)"
   ]
  },
  {
   "cell_type": "markdown",
   "id": "36ca493e",
   "metadata": {},
   "source": [
    "### Diabetes x Smoking x Mortality\n",
    "\n"
   ]
  },
  {
   "cell_type": "code",
   "execution_count": 54,
   "id": "7780f74a",
   "metadata": {},
   "outputs": [
    {
     "data": {
      "text/plain": [
       "<Figure size 1440x360 with 0 Axes>"
      ]
     },
     "metadata": {},
     "output_type": "display_data"
    },
    {
     "data": {
      "image/png": "[encoded data removed]",
      "text/plain": [
       "<Figure size 892.25x360 with 2 Axes>"
      ]
     },
     "metadata": {
      "needs_background": "light"
     },
     "output_type": "display_data"
    }
   ],
   "source": [
    "# Configuring plot figure size\n",
    "plt.figure(figsize=(20,5))\n",
    "\n",
    "# Plot relating Diabetes, Smoking and Mortality\n",
    "catplot_m_d_s = sns.catplot(data=df_numeric.replace({1:\"Yes\",0:\"No\"}), x=\"Smoking\", kind=\"count\", hue=\"Mortality\",\n",
    "                            col=\"Diabetes\", aspect=10.5/9)\n",
    "\n",
    "# Showing plot on JupyterNotebook\n",
    "plt.show()"
   ]
  },
  {
   "cell_type": "markdown",
   "id": "90a40448",
   "metadata": {},
   "source": [
    "This plot shows some previous observations \"acting\" together. I mean, when in the presence of Diabetes, or Smoking habits, the survival's rate already seems to be lower. But when these factors act together (the individual has diabetes and smoking habits) the survival's rate seems to be even lower."
   ]
  },
  {
   "cell_type": "markdown",
   "id": "1e2d1f90",
   "metadata": {},
   "source": [
    "# Conclusions/ Main Observations"
   ]
  },
  {
   "cell_type": "markdown",
   "id": "8cc88602",
   "metadata": {},
   "source": [
    "There are some very interesting observations from this brief Exploratory Analysis, I am going to point them:\n",
    " - Individuals from “Male” Gender has showed a higher mortality level when comparing with their pairs.\n",
    " - Individuals who have a Heart Failure Family’s History, have showed a higher mortality level when comparing with their pairs.\n",
    "    - The mortality proportion (non-survivor /survivor) by those who have heart failure family history: 8.0\n",
    "    - The mortality proportion (non-survivor /survivor) by those who don't have heart failure family history: 3.1\n",
    " - Diabetics individuals has showed a higher mortality level when comparing with their pairs.\n",
    " - Individuals who have Smoking habits, have showed a higher mortality level when comparing with their pairs.\n",
    "    - The mortality proportion (non-survivor /survivor) by those who smoke: 5.5\n",
    "    - The mortality proportion (non-survivor /survivor) by those who don't smoke: 2.5\n",
    " - The vast majority of individuals from this dataset has depression (~95%).\n",
    " - The individuals from this dataset have showed high levels of C.P.K. in the blood.\n",
    "    - Which can be related as an indication of damage to CK-rich tissue (like myocardial tissue). Since all the individuals had a heart failure, this could explain the high levels, and even the outliers.\n",
    " - There are 169 people (~46%) that would be classified as hypertense on this dataset.\n",
    "    - Hypertension Stage 1: 130-139mmHg\n",
    " - At least 17% from the individuals have reached, or exceeded, the 100% Heart Rate limit.\n",
    "    - And 89% from these current individuals hasn’t survived.\n",
    " - The majority of the people in this dataset has hyperlipidemia (93%).\n",
    " - There weren’t great differences when looking to mortality levels around these variables: Depression, Hemoglobin, Cholesterol, C.P.K., Resting Blood Pressure, Max Heart Rate, Hyperlipidemia, Platelet Count.\n",
    " - When combining Diabetes and Smoking, two factors that demonstrated some relationship with Mortality, the mortality level is even higher than one factor by itself.\n"
   ]
  },
  {
   "cell_type": "markdown",
   "id": "5194544a",
   "metadata": {},
   "source": [
    "There are a lot of variables on this dataset, for this current EDA I’ve just used 13 and I ‘ve found interesting observations. Further I intend to explore more variables, like “Follow.Up” and “Sleep”. For now, I think the best conclusions that we can take from this dataset is about taking care of heart’s health; I mean, when we look to the variables that showed to be related to higher levels of mortality (Smoking, Diabetes, Blood Pressure), all them are related with lifestyle habits. So, if you extended this thoughts to practical’s actions, maybe changing some habits (quit smoking, eating less high sugar foods, practicing physical exercises) could improve the chances from surviving a heart failure event; or even better, avoiding this event (and avoiding to be in this kind of dataset). Also, still speaking about heart’s health, as having Heart Failure Family’s History seems to be related with a higher mortality level; it’s important to be aware of how is your family’s heart health too."
   ]
  }
 ],
 "metadata": {
  "kernelspec": {
   "display_name": "Python 3 (ipykernel)",
   "language": "python",
   "name": "python3"
  },
  "language_info": {
   "codemirror_mode": {
    "name": "ipython",
    "version": 3
   },
   "file_extension": ".py",
   "mimetype": "text/x-python",
   "name": "python",
   "nbconvert_exporter": "python",
   "pygments_lexer": "ipython3",
   "version": "3.9.7"
  }
 },
 "nbformat": 4,
 "nbformat_minor": 5
}
